{
 "cells": [
  {
   "cell_type": "markdown",
   "metadata": {
    "colab_type": "text",
    "id": "view-in-github"
   },
   "source": [
    "<a href=\"https://colab.research.google.com/github/tpmmthomas/Sepsis-diagnosis-from-pairwise-single-cell-RNA-Continued/blob/master/NEW_NEW_capsnet.ipynb\" target=\"_parent\"><img src=\"https://colab.research.google.com/assets/colab-badge.svg\" alt=\"Open In Colab\"/></a>"
   ]
  },
  {
   "cell_type": "code",
   "execution_count": 1,
   "metadata": {
    "id": "-pMdZ8LBnucj"
   },
   "outputs": [
    {
     "name": "stderr",
     "output_type": "stream",
     "text": [
      "2024-07-04 14:07:49.303376: I tensorflow/stream_executor/platform/default/dso_loader.cc:49] Successfully opened dynamic library libcudart.so.10.1\n"
     ]
    }
   ],
   "source": [
    "import numpy as np\n",
    "import pandas as pd\n",
    "import tensorflow as tf\n",
    "from tensorflow.keras import datasets, layers, models, optimizers\n",
    "from tensorflow.keras.layers import Conv1D\n",
    "from tensorflow.keras.layers import MaxPooling1D, BatchNormalization\n",
    "from sklearn.model_selection import KFold\n",
    "import matplotlib.pyplot as plt\n",
    "from tensorflow import keras\n",
    "from sklearn.metrics import *\n",
    "from tensorflow.keras import backend as K\n",
    "from tensorflow.keras.utils import to_categorical\n",
    "from PIL import Image\n",
    "from tensorflow.keras import initializers, layers\n",
    "from datetime import date\n",
    "from sklearn.model_selection import train_test_split\n",
    "from tensorflow.python.keras.utils.multi_gpu_utils import multi_gpu_model\n",
    "from tensorflow.python.client import device_lib\n",
    "from trans import *\n",
    "from cap import *"
   ]
  },
  {
   "cell_type": "code",
   "execution_count": 2,
   "metadata": {
    "colab": {
     "base_uri": "https://localhost:8080/"
    },
    "id": "7vbMy0Iyo5Jz",
    "outputId": "2837b5ba-3410-4dcc-d9f6-6da4e0232a45",
    "tags": []
   },
   "outputs": [
    {
     "name": "stdout",
     "output_type": "stream",
     "text": [
      "done\n",
      "(38483, 3030)\n",
      "(38483, 1)\n",
      "(4265, 3030)\n",
      "(4265, 1)\n"
     ]
    }
   ],
   "source": [
    "xtrain = r\"../data/dataSC/NEW_training_sample.csv.gz\"\n",
    "ytrain = r\"../data/dataSC/NEW_training_label.csv.gz\"\n",
    "xtest = r\"../data/dataSC/NEW_testing_sample.csv.gz\"\n",
    "ytest = r\"../data/dataSC/NEW_testing_label.csv.gz\" \n",
    "\n",
    "i=0\n",
    "samplesdf = pd.read_csv(xtrain,compression =\"gzip\",delimiter=',')\n",
    "x_train = samplesdf.to_numpy()\n",
    "\n",
    "samplesdf = pd.read_csv(ytrain,compression =\"gzip\",delimiter=',')\n",
    "y_train = samplesdf.to_numpy()\n",
    "\n",
    "samplesdf = pd.read_csv(xtest,compression =\"gzip\",delimiter=',')\n",
    "x_test = samplesdf.to_numpy()\n",
    "\n",
    "samplesdf = pd.read_csv(ytest,compression =\"gzip\",delimiter=',')\n",
    "y_test = samplesdf.to_numpy()\n",
    "\n",
    "print(\"done\")\n",
    "print(x_train.shape)\n",
    "print(y_train.shape)\n",
    "print(x_test.shape)\n",
    "print(y_test.shape)"
   ]
  },
  {
   "cell_type": "code",
   "execution_count": 3,
   "metadata": {},
   "outputs": [
    {
     "name": "stdout",
     "output_type": "stream",
     "text": [
      "(38483, 2869)\n",
      "(4265, 2869)\n"
     ]
    }
   ],
   "source": [
    "common_indicator = pd.read_csv('../data/dataBulk/common_rna_indicator.csv',index_col=0).values.squeeze().tolist()\n",
    "x_train = x_train.T[common_indicator].T\n",
    "print(x_train.shape)\n",
    "x_test = x_test.T[common_indicator].T\n",
    "print(x_test.shape)"
   ]
  },
  {
   "cell_type": "code",
   "execution_count": 11,
   "metadata": {},
   "outputs": [],
   "source": [
    "from sklearn.preprocessing import PowerTransformer\n",
    "alldata = np.vstack((x_train, x_test))\n",
    "\n",
    "# Yeo-Johnson变换\n",
    "transformer = PowerTransformer(method='yeo-johnson')\n",
    "transformed_data = transformer.fit_transform(alldata)\n",
    "# 计算变换后的均值和方差\n",
    "mean = np.mean(transformed_data)\n",
    "std = np.std(transformed_data)"
   ]
  },
  {
   "cell_type": "code",
   "execution_count": 12,
   "metadata": {},
   "outputs": [
    {
     "data": {
      "text/plain": [
       "(9.435935231248593e-19, 1.0000000000000007)"
      ]
     },
     "execution_count": 12,
     "metadata": {},
     "output_type": "execute_result"
    }
   ],
   "source": [
    "mean,std"
   ]
  },
  {
   "cell_type": "code",
   "execution_count": 13,
   "metadata": {},
   "outputs": [],
   "source": [
    "x_train = transformed_data[:38483, :]\n",
    "x_test = transformed_data[38483:, :]"
   ]
  },
  {
   "cell_type": "code",
   "execution_count": 14,
   "metadata": {},
   "outputs": [
    {
     "data": {
      "text/plain": [
       "(42748, 2869)"
      ]
     },
     "execution_count": 14,
     "metadata": {},
     "output_type": "execute_result"
    }
   ],
   "source": [
    "transformed_data.shape"
   ]
  },
  {
   "cell_type": "code",
   "execution_count": 15,
   "metadata": {},
   "outputs": [
    {
     "name": "stdout",
     "output_type": "stream",
     "text": [
      "(34218, 2869) (34218, 1)\n",
      "(4265, 2869) (4265, 1)\n"
     ]
    }
   ],
   "source": [
    "# train, validation, test ratio = 80%:10%:10%\n",
    "xtr,xval, ytr,yval = train_test_split(x_train,y_train,test_size=4265,random_state=42)\n",
    "print(xtr.shape,ytr.shape)\n",
    "print(xval.shape,yval.shape)"
   ]
  },
  {
   "cell_type": "code",
   "execution_count": 16,
   "metadata": {
    "collapsed": true,
    "jupyter": {
     "outputs_hidden": true
    },
    "scrolled": true,
    "tags": []
   },
   "outputs": [
    {
     "name": "stderr",
     "output_type": "stream",
     "text": [
      "2024-07-04 14:26:09.773002: I tensorflow/compiler/jit/xla_cpu_device.cc:41] Not creating XLA devices, tf_xla_enable_xla_devices not set\n",
      "2024-07-04 14:26:09.775038: I tensorflow/stream_executor/platform/default/dso_loader.cc:49] Successfully opened dynamic library libcuda.so.1\n",
      "2024-07-04 14:26:09.808395: I tensorflow/core/common_runtime/gpu/gpu_device.cc:1720] Found device 0 with properties: \n",
      "pciBusID: 0000:17:00.0 name: NVIDIA RTX A5000 computeCapability: 8.6\n",
      "coreClock: 1.695GHz coreCount: 64 deviceMemorySize: 23.68GiB deviceMemoryBandwidth: 715.34GiB/s\n",
      "2024-07-04 14:26:09.808632: I tensorflow/core/common_runtime/gpu/gpu_device.cc:1720] Found device 1 with properties: \n",
      "pciBusID: 0000:73:00.0 name: NVIDIA RTX A5000 computeCapability: 8.6\n",
      "coreClock: 1.695GHz coreCount: 64 deviceMemorySize: 23.67GiB deviceMemoryBandwidth: 715.34GiB/s\n",
      "2024-07-04 14:26:09.808661: I tensorflow/stream_executor/platform/default/dso_loader.cc:49] Successfully opened dynamic library libcudart.so.10.1\n",
      "2024-07-04 14:26:09.811439: I tensorflow/stream_executor/platform/default/dso_loader.cc:49] Successfully opened dynamic library libcublas.so.10\n",
      "2024-07-04 14:26:09.811527: I tensorflow/stream_executor/platform/default/dso_loader.cc:49] Successfully opened dynamic library libcublasLt.so.10\n",
      "2024-07-04 14:26:09.813617: I tensorflow/stream_executor/platform/default/dso_loader.cc:49] Successfully opened dynamic library libcufft.so.10\n",
      "2024-07-04 14:26:09.814056: I tensorflow/stream_executor/platform/default/dso_loader.cc:49] Successfully opened dynamic library libcurand.so.10\n",
      "2024-07-04 14:26:09.816483: I tensorflow/stream_executor/platform/default/dso_loader.cc:49] Successfully opened dynamic library libcusolver.so.10\n",
      "2024-07-04 14:26:09.817839: I tensorflow/stream_executor/platform/default/dso_loader.cc:49] Successfully opened dynamic library libcusparse.so.10\n",
      "2024-07-04 14:26:09.838888: I tensorflow/stream_executor/platform/default/dso_loader.cc:49] Successfully opened dynamic library libcudnn.so.7\n",
      "2024-07-04 14:26:09.839796: I tensorflow/core/common_runtime/gpu/gpu_device.cc:1862] Adding visible gpu devices: 0, 1\n",
      "2024-07-04 14:26:09.840622: I tensorflow/core/platform/cpu_feature_guard.cc:142] This TensorFlow binary is optimized with oneAPI Deep Neural Network Library (oneDNN) to use the following CPU instructions in performance-critical operations:  SSE4.1 SSE4.2 AVX AVX2 AVX512F FMA\n",
      "To enable them in other operations, rebuild TensorFlow with the appropriate compiler flags.\n",
      "2024-07-04 14:26:10.165440: I tensorflow/core/common_runtime/gpu/gpu_device.cc:1720] Found device 0 with properties: \n",
      "pciBusID: 0000:17:00.0 name: NVIDIA RTX A5000 computeCapability: 8.6\n",
      "coreClock: 1.695GHz coreCount: 64 deviceMemorySize: 23.68GiB deviceMemoryBandwidth: 715.34GiB/s\n",
      "2024-07-04 14:26:10.165722: I tensorflow/core/common_runtime/gpu/gpu_device.cc:1720] Found device 1 with properties: \n",
      "pciBusID: 0000:73:00.0 name: NVIDIA RTX A5000 computeCapability: 8.6\n",
      "coreClock: 1.695GHz coreCount: 64 deviceMemorySize: 23.67GiB deviceMemoryBandwidth: 715.34GiB/s\n",
      "2024-07-04 14:26:10.165771: I tensorflow/stream_executor/platform/default/dso_loader.cc:49] Successfully opened dynamic library libcudart.so.10.1\n",
      "2024-07-04 14:26:10.165813: I tensorflow/stream_executor/platform/default/dso_loader.cc:49] Successfully opened dynamic library libcublas.so.10\n",
      "2024-07-04 14:26:10.165831: I tensorflow/stream_executor/platform/default/dso_loader.cc:49] Successfully opened dynamic library libcublasLt.so.10\n",
      "2024-07-04 14:26:10.165848: I tensorflow/stream_executor/platform/default/dso_loader.cc:49] Successfully opened dynamic library libcufft.so.10\n",
      "2024-07-04 14:26:10.165866: I tensorflow/stream_executor/platform/default/dso_loader.cc:49] Successfully opened dynamic library libcurand.so.10\n",
      "2024-07-04 14:26:10.165883: I tensorflow/stream_executor/platform/default/dso_loader.cc:49] Successfully opened dynamic library libcusolver.so.10\n",
      "2024-07-04 14:26:10.165901: I tensorflow/stream_executor/platform/default/dso_loader.cc:49] Successfully opened dynamic library libcusparse.so.10\n",
      "2024-07-04 14:26:10.165918: I tensorflow/stream_executor/platform/default/dso_loader.cc:49] Successfully opened dynamic library libcudnn.so.7\n",
      "2024-07-04 14:26:10.166636: I tensorflow/core/common_runtime/gpu/gpu_device.cc:1862] Adding visible gpu devices: 0, 1\n",
      "2024-07-04 14:26:10.166683: I tensorflow/stream_executor/platform/default/dso_loader.cc:49] Successfully opened dynamic library libcudart.so.10.1\n",
      "2024-07-04 14:26:13.489169: I tensorflow/core/common_runtime/gpu/gpu_device.cc:1261] Device interconnect StreamExecutor with strength 1 edge matrix:\n",
      "2024-07-04 14:26:13.489209: I tensorflow/core/common_runtime/gpu/gpu_device.cc:1267]      0 1 \n",
      "2024-07-04 14:26:13.489218: I tensorflow/core/common_runtime/gpu/gpu_device.cc:1280] 0:   N Y \n",
      "2024-07-04 14:26:13.489224: I tensorflow/core/common_runtime/gpu/gpu_device.cc:1280] 1:   Y N \n",
      "2024-07-04 14:26:13.490343: I tensorflow/core/common_runtime/gpu/gpu_device.cc:1406] Created TensorFlow device (/job:localhost/replica:0/task:0/device:GPU:0 with 22404 MB memory) -> physical GPU (device: 0, name: NVIDIA RTX A5000, pci bus id: 0000:17:00.0, compute capability: 8.6)\n",
      "2024-07-04 14:26:13.513727: I tensorflow/core/common_runtime/gpu/gpu_device.cc:1406] Created TensorFlow device (/job:localhost/replica:0/task:0/device:GPU:1 with 19701 MB memory) -> physical GPU (device: 1, name: NVIDIA RTX A5000, pci bus id: 0000:73:00.0, compute capability: 8.6)\n",
      "2024-07-04 14:26:13.522743: I tensorflow/compiler/jit/xla_gpu_device.cc:99] Not creating XLA devices, tf_xla_enable_xla_devices not set\n"
     ]
    },
    {
     "name": "stdout",
     "output_type": "stream",
     "text": [
      "(34218, 2869, 1)\n",
      "(4265, 2869, 1)\n",
      "(4265, 2869, 1)\n"
     ]
    }
   ],
   "source": [
    "xtr=tf.reshape(xtr,(len(xtr),2869,1))\n",
    "xval=tf.reshape(xval,(len(xval),2869,1))\n",
    "x_test=tf.reshape(x_test,(len(x_test),2869,1))\n",
    "print(xtr.shape)\n",
    "print(xval.shape)\n",
    "print(x_test.shape)"
   ]
  },
  {
   "cell_type": "code",
   "execution_count": 17,
   "metadata": {
    "id": "P0fsFqz5p6K9"
   },
   "outputs": [],
   "source": [
    "def CapsNet(input_shape, n_class, routings):\n",
    "    inputs = layers.Input(shape=input_shape)\n",
    "    primarycaps = PrimaryCap(inputs, dim_capsule=8, n_channels=1, kernel_size=1, strides=1, padding='valid')\n",
    "    groupcaps,routing_weight = CapsuleLayer(num_capsule=n_class, dim_capsule=16, routings=routings,\n",
    "                             name='groupcaps')(primarycaps)\n",
    "\n",
    "    transformer_block = TransformerBlock(embed_dim=16, num_heads=2, ff_dim=128)\n",
    "    x = transformer_block(groupcaps)\n",
    "    x = layers.Flatten()(x)\n",
    "    x = layers.Dropout(0.1)(x)\n",
    "    x = layers.Dense(150, activation=\"relu\")(x)\n",
    "    outputs = layers.Dense(1, activation=\"sigmoid\")(x)\n",
    "    model = models.Model(inputs, outputs)\n",
    "    return model\n",
    "\n",
    "\n",
    "def margin_loss(y_true, y_pred):\n",
    "    L = y_true * K.square(K.maximum(0., 0.9 - y_pred)) + \\\n",
    "        0.5 * (1 - y_true) * K.square(K.maximum(0., y_pred - 0.1))\n",
    "    return K.mean(K.sum(L, 1))\n",
    "\n",
    "\n",
    "def test(model, X_test, y_test, args):\n",
    "    y_pred, x_recon = model.predict(X_test, batch_size=20)\n",
    "    print('-'*30 + 'Begin: test' + '-'*30)\n",
    "    print('Test acc:', np.sum(np.argmax(y_pred, 1) == np.argmax(y_test, 1))/y_test.shape[0])\n",
    "    return y_pred"
   ]
  },
  {
   "cell_type": "code",
   "execution_count": 18,
   "metadata": {
    "colab": {
     "base_uri": "https://localhost:8080/"
    },
    "collapsed": true,
    "id": "fazyVPfmqT5a",
    "jupyter": {
     "outputs_hidden": true
    },
    "outputId": "ea02a59d-f176-45c9-bfc7-f438ba659ef5",
    "tags": []
   },
   "outputs": [
    {
     "name": "stdout",
     "output_type": "stream",
     "text": [
      "Model: \"model\"\n",
      "_________________________________________________________________\n",
      "Layer (type)                 Output Shape              Param #   \n",
      "=================================================================\n",
      "input_1 (InputLayer)         [(None, 2869, 1)]         0         \n",
      "_________________________________________________________________\n",
      "weightlayer (Weightlayer)    ((None, 2869, 8), (1, 286 22952     \n",
      "_________________________________________________________________\n",
      "primarycap_reshape (Reshape) (None, 2869, 8)           0         \n",
      "_________________________________________________________________\n",
      "primarycap_squash (Lambda)   (None, 2869, 8)           0         \n",
      "_________________________________________________________________\n",
      "groupcaps (CapsuleLayer)     ((None, 20, 16), (None, 2 7344640   \n",
      "_________________________________________________________________\n",
      "transformer_block (Transform (None, 20, 16)            5392      \n",
      "_________________________________________________________________\n",
      "flatten (Flatten)            (None, 320)               0         \n",
      "_________________________________________________________________\n",
      "dropout_2 (Dropout)          (None, 320)               0         \n",
      "_________________________________________________________________\n",
      "dense_6 (Dense)              (None, 150)               48150     \n",
      "_________________________________________________________________\n",
      "dense_7 (Dense)              (None, 1)                 151       \n",
      "=================================================================\n",
      "Total params: 7,421,285\n",
      "Trainable params: 7,421,285\n",
      "Non-trainable params: 0\n",
      "_________________________________________________________________\n"
     ]
    }
   ],
   "source": [
    " # define model\n",
    "model= CapsNet(input_shape=xtr[1,:,:].shape,n_class=20,routings=5)\n",
    "model.summary()"
   ]
  },
  {
   "cell_type": "code",
   "execution_count": 19,
   "metadata": {
    "colab": {
     "base_uri": "https://localhost:8080/"
    },
    "collapsed": true,
    "id": "9LnzyRocqW_q",
    "jupyter": {
     "outputs_hidden": true
    },
    "outputId": "c22f1362-baaa-4177-c59e-ab61d6c3e32d",
    "tags": []
   },
   "outputs": [
    {
     "name": "stderr",
     "output_type": "stream",
     "text": [
      "2024-07-04 14:27:05.497516: I tensorflow/compiler/mlir/mlir_graph_optimization_pass.cc:116] None of the MLIR optimization passes are enabled (registered 2)\n",
      "2024-07-04 14:27:05.498320: I tensorflow/core/platform/profile_utils/cpu_utils.cc:112] CPU Frequency: 2400000000 Hz\n"
     ]
    },
    {
     "name": "stdout",
     "output_type": "stream",
     "text": [
      "Epoch 1/20\n"
     ]
    },
    {
     "name": "stderr",
     "output_type": "stream",
     "text": [
      "2024-07-04 14:27:10.159348: I tensorflow/stream_executor/platform/default/dso_loader.cc:49] Successfully opened dynamic library libcublas.so.10\n"
     ]
    },
    {
     "name": "stdout",
     "output_type": "stream",
     "text": [
      "1070/1070 [==============================] - 202s 184ms/step - loss: 0.6188 - accuracy: 0.6266 - val_loss: 0.4662 - val_accuracy: 0.7758\n",
      "Epoch 2/20\n",
      "1070/1070 [==============================] - 198s 185ms/step - loss: 0.4293 - accuracy: 0.7997 - val_loss: 0.4504 - val_accuracy: 0.7822\n",
      "Epoch 3/20\n",
      "1070/1070 [==============================] - 200s 186ms/step - loss: 0.3663 - accuracy: 0.8294 - val_loss: 0.3928 - val_accuracy: 0.8166\n",
      "Epoch 4/20\n",
      "1070/1070 [==============================] - 201s 188ms/step - loss: 0.3081 - accuracy: 0.8640 - val_loss: 0.3744 - val_accuracy: 0.8331\n",
      "Epoch 5/20\n",
      "1070/1070 [==============================] - 204s 191ms/step - loss: 0.2332 - accuracy: 0.9010 - val_loss: 0.3613 - val_accuracy: 0.8518\n",
      "Epoch 6/20\n",
      "1070/1070 [==============================] - 202s 188ms/step - loss: 0.1664 - accuracy: 0.9346 - val_loss: 0.3657 - val_accuracy: 0.8476\n",
      "Epoch 7/20\n",
      "1070/1070 [==============================] - 201s 188ms/step - loss: 0.1141 - accuracy: 0.9557 - val_loss: 0.4040 - val_accuracy: 0.8593\n",
      "Epoch 8/20\n",
      "1070/1070 [==============================] - 201s 188ms/step - loss: 0.0728 - accuracy: 0.9750 - val_loss: 0.4690 - val_accuracy: 0.8614\n",
      "Epoch 9/20\n",
      "1070/1070 [==============================] - 200s 187ms/step - loss: 0.0433 - accuracy: 0.9843 - val_loss: 0.5807 - val_accuracy: 0.8589\n",
      "Epoch 10/20\n",
      "1070/1070 [==============================] - 199s 186ms/step - loss: 0.0231 - accuracy: 0.9938 - val_loss: 0.6057 - val_accuracy: 0.8631\n",
      "Epoch 11/20\n",
      "1070/1070 [==============================] - 199s 186ms/step - loss: 0.0130 - accuracy: 0.9970 - val_loss: 0.7129 - val_accuracy: 0.8593\n",
      "Epoch 12/20\n",
      "1070/1070 [==============================] - 199s 186ms/step - loss: 0.0079 - accuracy: 0.9987 - val_loss: 0.7732 - val_accuracy: 0.8537\n",
      "Epoch 13/20\n",
      "1070/1070 [==============================] - 199s 186ms/step - loss: 0.0106 - accuracy: 0.9969 - val_loss: 0.8051 - val_accuracy: 0.8598\n",
      "Epoch 14/20\n",
      "1070/1070 [==============================] - 199s 186ms/step - loss: 0.0051 - accuracy: 0.9992 - val_loss: 0.8165 - val_accuracy: 0.8553\n",
      "Epoch 15/20\n",
      "1070/1070 [==============================] - 199s 186ms/step - loss: 0.0029 - accuracy: 0.9997 - val_loss: 0.8533 - val_accuracy: 0.8589\n",
      "Epoch 16/20\n",
      "1070/1070 [==============================] - 199s 186ms/step - loss: 0.0018 - accuracy: 0.9997 - val_loss: 0.8707 - val_accuracy: 0.8565\n",
      "Epoch 17/20\n",
      "1070/1070 [==============================] - 199s 186ms/step - loss: 0.0030 - accuracy: 0.9994 - val_loss: 0.8334 - val_accuracy: 0.8572\n",
      "Epoch 18/20\n",
      "1070/1070 [==============================] - 199s 186ms/step - loss: 0.0033 - accuracy: 0.9993 - val_loss: 0.8989 - val_accuracy: 0.8584\n",
      "Epoch 19/20\n",
      "1070/1070 [==============================] - 199s 186ms/step - loss: 0.0016 - accuracy: 0.9998 - val_loss: 0.9318 - val_accuracy: 0.8593\n",
      "Epoch 20/20\n",
      "1070/1070 [==============================] - 199s 186ms/step - loss: 8.2835e-04 - accuracy: 1.0000 - val_loss: 0.9113 - val_accuracy: 0.8570\n"
     ]
    },
    {
     "name": "stderr",
     "output_type": "stream",
     "text": [
      "2024-07-04 15:33:46.118174: W tensorflow/python/util/util.cc:348] Sets are not currently considered sequences, but this may change in the future, so consider avoiding using them.\n",
      "WARNING:absl:Found untraced functions such as multi_head_self_attention_layer_call_fn, multi_head_self_attention_layer_call_and_return_conditional_losses, layer_normalization_layer_call_fn, layer_normalization_layer_call_and_return_conditional_losses, layer_normalization_1_layer_call_fn while saving (showing 5 of 45). These functions will not be directly callable after loading.\n",
      "WARNING:absl:Found untraced functions such as multi_head_self_attention_layer_call_fn, multi_head_self_attention_layer_call_and_return_conditional_losses, layer_normalization_layer_call_fn, layer_normalization_layer_call_and_return_conditional_losses, layer_normalization_1_layer_call_fn while saving (showing 5 of 45). These functions will not be directly callable after loading.\n"
     ]
    },
    {
     "name": "stdout",
     "output_type": "stream",
     "text": [
      "INFO:tensorflow:Assets written to: ./model/0623weightmodel_domaindpec/assets\n"
     ]
    },
    {
     "name": "stderr",
     "output_type": "stream",
     "text": [
      "INFO:tensorflow:Assets written to: ./model/0623weightmodel_domaindpec/assets\n"
     ]
    }
   ],
   "source": [
    "# train or test\n",
    "# compile the model\n",
    "model.compile(optimizer=optimizers.Adam(lr=0.0001, amsgrad=True),loss='binary_crossentropy', metrics=[\"accuracy\"])\n",
    "\n",
    "from tensorflow.keras import callbacks\n",
    "earlystopping = callbacks.EarlyStopping(monitor =\"val_accuracy\", \n",
    "                                        mode =\"min\", patience = 5, \n",
    "                                        restore_best_weights = True)\n",
    "history = model.fit(xtr, ytr, batch_size=32, epochs=20,validation_data=(xval, yval),\n",
    "               shuffle=True)\n",
    "\n",
    "today = date.today()\n",
    "model.save('../modelsave/0623weightmodel_domaindpec')"
   ]
  },
  {
   "cell_type": "code",
   "execution_count": 20,
   "metadata": {},
   "outputs": [
    {
     "name": "stdout",
     "output_type": "stream",
     "text": [
      "Testing accuracy: 0.8609613130128957\n",
      "AUROC = 0.93203\n",
      "AUPRC = 0.92708\n",
      "f1_score = 0.85282\n"
     ]
    }
   ],
   "source": [
    "testresult=model.predict(x_test)\n",
    "i = 0\n",
    "correct = 0\n",
    "for x in testresult:\n",
    "    if x >=0.5 and y_test[i] == 1:\n",
    "        correct = correct + 1\n",
    "    elif x < 0.5 and y_test[i] == 0:\n",
    "        correct = correct + 1\n",
    "    i = i + 1\n",
    "testacc = correct/i\n",
    "print(\"Testing accuracy:\",testacc)\n",
    "\n",
    "fpr, tpr, _ = roc_curve(y_test,testresult)\n",
    "roc_auc = auc(fpr,tpr)\n",
    "print(\"AUROC = %.05f\"% roc_auc)\n",
    "\n",
    "precision, recall, _ = precision_recall_curve(y_test,testresult)\n",
    "prc_auc = auc(recall,precision)\n",
    "print(\"AUPRC = %.05f\"% prc_auc)\n",
    "ss = np.zeros((len(testresult)))\n",
    "i = 0\n",
    "for x in testresult:\n",
    "    if x >= 0.5:\n",
    "        ss[i] = 1\n",
    "    else:\n",
    "        ss[i] = 0\n",
    "    i = i + 1\n",
    "f1s = f1_score(y_test,ss)\n",
    "print(\"f1_score = %.05f\"% f1s)"
   ]
  },
  {
   "cell_type": "code",
   "execution_count": 11,
   "metadata": {
    "colab": {
     "base_uri": "https://localhost:8080/",
     "height": 624
    },
    "id": "BMrme_1dXuT4",
    "outputId": "b56a34c0-67fc-47e9-87f8-343175718c27",
    "tags": []
   },
   "outputs": [
    {
     "name": "stdout",
     "output_type": "stream",
     "text": [
      "Testing accuracy: 0.8604923798358733\n",
      "AUROC = 0.93352\n",
      "AUPRC = 0.93105\n",
      "f1_score = 0.85491\n"
     ]
    }
   ],
   "source": [
    "testresult=model.predict(x_test)\n",
    "i = 0\n",
    "correct = 0\n",
    "for x in testresult:\n",
    "    if x >=0.5 and y_test[i] == 1:\n",
    "        correct = correct + 1\n",
    "    elif x < 0.5 and y_test[i] == 0:\n",
    "        correct = correct + 1\n",
    "    i = i + 1\n",
    "testacc = correct/i\n",
    "print(\"Testing accuracy:\",testacc)\n",
    "\n",
    "fpr, tpr, _ = roc_curve(y_test,testresult)\n",
    "roc_auc = auc(fpr,tpr)\n",
    "print(\"AUROC = %.05f\"% roc_auc)\n",
    "\n",
    "precision, recall, _ = precision_recall_curve(y_test,testresult)\n",
    "prc_auc = auc(recall,precision)\n",
    "print(\"AUPRC = %.05f\"% prc_auc)\n",
    "ss = np.zeros((len(testresult)))\n",
    "i = 0\n",
    "for x in testresult:\n",
    "    if x >= 0.5:\n",
    "        ss[i] = 1\n",
    "    else:\n",
    "        ss[i] = 0\n",
    "    i = i + 1\n",
    "f1s = f1_score(y_test,ss)\n",
    "print(\"f1_score = %.05f\"% f1s)"
   ]
  },
  {
   "cell_type": "code",
   "execution_count": 12,
   "metadata": {},
   "outputs": [],
   "source": [
    "# pd.DataFrame(testresult).to_csv('../capsnetweighted_rount5.csv',header=None, index=None)\n",
    "# pd.DataFrame(y_test).to_csv('../capsnet_y_rount5.csv',header=None, index=None)"
   ]
  },
  {
   "cell_type": "code",
   "execution_count": null,
   "metadata": {},
   "outputs": [],
   "source": []
  }
 ],
 "metadata": {
  "accelerator": "GPU",
  "colab": {
   "authorship_tag": "ABX9TyOtaemKyucoLNUMUXY77UrD",
   "collapsed_sections": [],
   "include_colab_link": true,
   "name": "NEW NEW capsnet.ipynb",
   "provenance": []
  },
  "kernelspec": {
   "display_name": "tf-gpu",
   "language": "python",
   "name": "tf-gpu"
  },
  "language_info": {
   "codemirror_mode": {
    "name": "ipython",
    "version": 3
   },
   "file_extension": ".py",
   "mimetype": "text/x-python",
   "name": "python",
   "nbconvert_exporter": "python",
   "pygments_lexer": "ipython3",
   "version": "3.8.12"
  }
 },
 "nbformat": 4,
 "nbformat_minor": 4
}
