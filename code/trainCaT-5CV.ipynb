{
 "cells": [
  {
   "cell_type": "markdown",
   "metadata": {
    "colab_type": "text",
    "id": "view-in-github"
   },
   "source": [
    "<a href=\"https://colab.research.google.com/github/tpmmthomas/Sepsis-diagnosis-from-pairwise-single-cell-RNA-Continued/blob/master/NEW_NEW_capsnet.ipynb\" target=\"_parent\"><img src=\"https://colab.research.google.com/assets/colab-badge.svg\" alt=\"Open In Colab\"/></a>"
   ]
  },
  {
   "cell_type": "code",
   "execution_count": 1,
   "metadata": {
    "id": "-pMdZ8LBnucj"
   },
   "outputs": [
    {
     "name": "stderr",
     "output_type": "stream",
     "text": [
      "2024-07-04 10:25:44.220696: I tensorflow/stream_executor/platform/default/dso_loader.cc:49] Successfully opened dynamic library libcudart.so.10.1\n"
     ]
    }
   ],
   "source": [
    "import numpy as np\n",
    "import pandas as pd\n",
    "import tensorflow as tf\n",
    "from tensorflow.keras import datasets, layers, models, optimizers\n",
    "from tensorflow.keras.layers import Conv1D\n",
    "from tensorflow.keras.layers import MaxPooling1D, BatchNormalization\n",
    "from sklearn.model_selection import KFold\n",
    "import matplotlib.pyplot as plt\n",
    "from tensorflow import keras\n",
    "from sklearn.metrics import *\n",
    "from tensorflow.keras import backend as K\n",
    "from tensorflow.keras.utils import to_categorical\n",
    "from PIL import Image\n",
    "from tensorflow.keras import initializers, layers\n",
    "from datetime import date\n",
    "from sklearn.model_selection import train_test_split\n",
    "from tensorflow.python.keras.utils.multi_gpu_utils import multi_gpu_model\n",
    "from tensorflow.python.client import device_lib\n",
    "from tensorflow.keras import callbacks\n",
    "from sklearn.model_selection import StratifiedKFold\n",
    "from sklearn.metrics import roc_curve, auc\n",
    "from trans import *\n",
    "from cap import *"
   ]
  },
  {
   "cell_type": "code",
   "execution_count": 2,
   "metadata": {
    "colab": {
     "base_uri": "https://localhost:8080/"
    },
    "id": "7vbMy0Iyo5Jz",
    "outputId": "2837b5ba-3410-4dcc-d9f6-6da4e0232a45",
    "tags": []
   },
   "outputs": [
    {
     "name": "stdout",
     "output_type": "stream",
     "text": [
      "done\n",
      "(38483, 3030)\n",
      "(38483, 1)\n",
      "(4265, 3030)\n",
      "(4265, 1)\n"
     ]
    }
   ],
   "source": [
    "xtrain = r\"../data/dataSC/NEW_training_sample.csv.gz\"\n",
    "ytrain = r\"../data/dataSC/NEW_training_label.csv.gz\"\n",
    "xtest = r\"../data/dataSC/NEW_testing_sample.csv.gz\"\n",
    "ytest = r\"../data/dataSC/NEW_testing_label.csv.gz\" \n",
    "\n",
    "i=0\n",
    "samplesdf = pd.read_csv(xtrain,compression =\"gzip\",delimiter=',')\n",
    "x_train = samplesdf.to_numpy()\n",
    "\n",
    "samplesdf = pd.read_csv(ytrain,compression =\"gzip\",delimiter=',')\n",
    "y_train = samplesdf.to_numpy()\n",
    "\n",
    "samplesdf = pd.read_csv(xtest,compression =\"gzip\",delimiter=',')\n",
    "x_test = samplesdf.to_numpy()\n",
    "\n",
    "samplesdf = pd.read_csv(ytest,compression =\"gzip\",delimiter=',')\n",
    "y_test = samplesdf.to_numpy()\n",
    "\n",
    "print(\"done\")\n",
    "print(x_train.shape)\n",
    "print(y_train.shape)\n",
    "print(x_test.shape)\n",
    "print(y_test.shape)"
   ]
  },
  {
   "cell_type": "code",
   "execution_count": 4,
   "metadata": {},
   "outputs": [
    {
     "data": {
      "text/plain": [
       "(9.09, 0.0)"
      ]
     },
     "execution_count": 4,
     "metadata": {},
     "output_type": "execute_result"
    }
   ],
   "source": [
    "x_train.max(),x_train.min()"
   ]
  },
  {
   "cell_type": "code",
   "execution_count": 3,
   "metadata": {},
   "outputs": [
    {
     "name": "stdout",
     "output_type": "stream",
     "text": [
      "(38483, 2869)\n",
      "(4265, 2869)\n"
     ]
    }
   ],
   "source": [
    "common_indicator = pd.read_csv('../data/dataBulk/common_rna_indicator.csv',index_col=0).values.squeeze().tolist()\n",
    "x_train = x_train.T[common_indicator].T\n",
    "print(x_train.shape)\n",
    "x_test = x_test.T[common_indicator].T\n",
    "print(x_test.shape)"
   ]
  },
  {
   "cell_type": "code",
   "execution_count": 5,
   "metadata": {},
   "outputs": [
    {
     "data": {
      "text/plain": [
       "(8.84, 0.0)"
      ]
     },
     "execution_count": 5,
     "metadata": {},
     "output_type": "execute_result"
    }
   ],
   "source": [
    "x_test.max(), x_test.min()"
   ]
  },
  {
   "cell_type": "code",
   "execution_count": 4,
   "metadata": {
    "collapsed": true,
    "jupyter": {
     "outputs_hidden": true
    },
    "scrolled": true,
    "tags": []
   },
   "outputs": [
    {
     "name": "stderr",
     "output_type": "stream",
     "text": [
      "2024-07-01 01:18:31.662550: I tensorflow/compiler/jit/xla_cpu_device.cc:41] Not creating XLA devices, tf_xla_enable_xla_devices not set\n",
      "2024-07-01 01:18:31.665022: I tensorflow/stream_executor/platform/default/dso_loader.cc:49] Successfully opened dynamic library libcuda.so.1\n",
      "2024-07-01 01:18:31.710802: I tensorflow/core/common_runtime/gpu/gpu_device.cc:1720] Found device 0 with properties: \n",
      "pciBusID: 0000:17:00.0 name: NVIDIA RTX A5000 computeCapability: 8.6\n",
      "coreClock: 1.695GHz coreCount: 64 deviceMemorySize: 23.68GiB deviceMemoryBandwidth: 715.34GiB/s\n",
      "2024-07-01 01:18:31.711025: I tensorflow/core/common_runtime/gpu/gpu_device.cc:1720] Found device 1 with properties: \n",
      "pciBusID: 0000:73:00.0 name: NVIDIA RTX A5000 computeCapability: 8.6\n",
      "coreClock: 1.695GHz coreCount: 64 deviceMemorySize: 23.67GiB deviceMemoryBandwidth: 715.34GiB/s\n",
      "2024-07-01 01:18:31.711056: I tensorflow/stream_executor/platform/default/dso_loader.cc:49] Successfully opened dynamic library libcudart.so.10.1\n",
      "2024-07-01 01:18:31.712877: I tensorflow/stream_executor/platform/default/dso_loader.cc:49] Successfully opened dynamic library libcublas.so.10\n",
      "2024-07-01 01:18:31.712969: I tensorflow/stream_executor/platform/default/dso_loader.cc:49] Successfully opened dynamic library libcublasLt.so.10\n",
      "2024-07-01 01:18:31.714638: I tensorflow/stream_executor/platform/default/dso_loader.cc:49] Successfully opened dynamic library libcufft.so.10\n",
      "2024-07-01 01:18:31.714969: I tensorflow/stream_executor/platform/default/dso_loader.cc:49] Successfully opened dynamic library libcurand.so.10\n",
      "2024-07-01 01:18:31.716525: I tensorflow/stream_executor/platform/default/dso_loader.cc:49] Successfully opened dynamic library libcusolver.so.10\n",
      "2024-07-01 01:18:31.717341: I tensorflow/stream_executor/platform/default/dso_loader.cc:49] Successfully opened dynamic library libcusparse.so.10\n",
      "2024-07-01 01:18:31.720549: I tensorflow/stream_executor/platform/default/dso_loader.cc:49] Successfully opened dynamic library libcudnn.so.7\n",
      "2024-07-01 01:18:31.721311: I tensorflow/core/common_runtime/gpu/gpu_device.cc:1862] Adding visible gpu devices: 0, 1\n",
      "2024-07-01 01:18:31.722384: I tensorflow/core/platform/cpu_feature_guard.cc:142] This TensorFlow binary is optimized with oneAPI Deep Neural Network Library (oneDNN) to use the following CPU instructions in performance-critical operations:  SSE4.1 SSE4.2 AVX AVX2 AVX512F FMA\n",
      "To enable them in other operations, rebuild TensorFlow with the appropriate compiler flags.\n",
      "2024-07-01 01:18:31.877583: I tensorflow/core/common_runtime/gpu/gpu_device.cc:1720] Found device 0 with properties: \n",
      "pciBusID: 0000:17:00.0 name: NVIDIA RTX A5000 computeCapability: 8.6\n",
      "coreClock: 1.695GHz coreCount: 64 deviceMemorySize: 23.68GiB deviceMemoryBandwidth: 715.34GiB/s\n",
      "2024-07-01 01:18:31.877811: I tensorflow/core/common_runtime/gpu/gpu_device.cc:1720] Found device 1 with properties: \n",
      "pciBusID: 0000:73:00.0 name: NVIDIA RTX A5000 computeCapability: 8.6\n",
      "coreClock: 1.695GHz coreCount: 64 deviceMemorySize: 23.67GiB deviceMemoryBandwidth: 715.34GiB/s\n",
      "2024-07-01 01:18:31.877848: I tensorflow/stream_executor/platform/default/dso_loader.cc:49] Successfully opened dynamic library libcudart.so.10.1\n",
      "2024-07-01 01:18:31.877878: I tensorflow/stream_executor/platform/default/dso_loader.cc:49] Successfully opened dynamic library libcublas.so.10\n",
      "2024-07-01 01:18:31.877891: I tensorflow/stream_executor/platform/default/dso_loader.cc:49] Successfully opened dynamic library libcublasLt.so.10\n",
      "2024-07-01 01:18:31.877903: I tensorflow/stream_executor/platform/default/dso_loader.cc:49] Successfully opened dynamic library libcufft.so.10\n",
      "2024-07-01 01:18:31.877914: I tensorflow/stream_executor/platform/default/dso_loader.cc:49] Successfully opened dynamic library libcurand.so.10\n",
      "2024-07-01 01:18:31.877926: I tensorflow/stream_executor/platform/default/dso_loader.cc:49] Successfully opened dynamic library libcusolver.so.10\n",
      "2024-07-01 01:18:31.877938: I tensorflow/stream_executor/platform/default/dso_loader.cc:49] Successfully opened dynamic library libcusparse.so.10\n",
      "2024-07-01 01:18:31.877950: I tensorflow/stream_executor/platform/default/dso_loader.cc:49] Successfully opened dynamic library libcudnn.so.7\n",
      "2024-07-01 01:18:31.878467: I tensorflow/core/common_runtime/gpu/gpu_device.cc:1862] Adding visible gpu devices: 0, 1\n",
      "2024-07-01 01:18:31.878502: I tensorflow/stream_executor/platform/default/dso_loader.cc:49] Successfully opened dynamic library libcudart.so.10.1\n",
      "2024-07-01 01:18:34.124298: I tensorflow/core/common_runtime/gpu/gpu_device.cc:1261] Device interconnect StreamExecutor with strength 1 edge matrix:\n",
      "2024-07-01 01:18:34.124327: I tensorflow/core/common_runtime/gpu/gpu_device.cc:1267]      0 1 \n",
      "2024-07-01 01:18:34.124332: I tensorflow/core/common_runtime/gpu/gpu_device.cc:1280] 0:   N Y \n",
      "2024-07-01 01:18:34.124335: I tensorflow/core/common_runtime/gpu/gpu_device.cc:1280] 1:   Y N \n",
      "2024-07-01 01:18:34.125161: I tensorflow/core/common_runtime/gpu/gpu_device.cc:1406] Created TensorFlow device (/job:localhost/replica:0/task:0/device:GPU:0 with 22404 MB memory) -> physical GPU (device: 0, name: NVIDIA RTX A5000, pci bus id: 0000:17:00.0, compute capability: 8.6)\n",
      "2024-07-01 01:18:34.126051: I tensorflow/core/common_runtime/gpu/gpu_device.cc:1406] Created TensorFlow device (/job:localhost/replica:0/task:0/device:GPU:1 with 1132 MB memory) -> physical GPU (device: 1, name: NVIDIA RTX A5000, pci bus id: 0000:73:00.0, compute capability: 8.6)\n",
      "2024-07-01 01:18:34.126438: I tensorflow/compiler/jit/xla_gpu_device.cc:99] Not creating XLA devices, tf_xla_enable_xla_devices not set\n"
     ]
    },
    {
     "name": "stdout",
     "output_type": "stream",
     "text": [
      "(38483, 2869, 1)\n"
     ]
    }
   ],
   "source": [
    "x_train_tf = tf.reshape(x_train,(len(x_train),2869,1))\n",
    "print(x_train_tf.shape)"
   ]
  },
  {
   "cell_type": "code",
   "execution_count": 5,
   "metadata": {
    "id": "P0fsFqz5p6K9"
   },
   "outputs": [],
   "source": [
    "def CapsNet(input_shape, n_class, routings):\n",
    "    inputs = layers.Input(shape=input_shape)\n",
    "    primarycaps = PrimaryCap(inputs, dim_capsule=8, n_channels=1, kernel_size=1, strides=1, padding='valid')\n",
    "    groupcaps,routing_weight = CapsuleLayer(num_capsule=n_class, dim_capsule=16, routings=routings,\n",
    "                             name='groupcaps')(primarycaps)\n",
    "\n",
    "    transformer_block = TransformerBlock(embed_dim=16, num_heads=2, ff_dim=128)\n",
    "    x = transformer_block(groupcaps)\n",
    "    x = layers.Flatten()(x)\n",
    "    x = layers.Dropout(0.1)(x)\n",
    "    x = layers.Dense(150, activation=\"relu\")(x)\n",
    "    outputs = layers.Dense(1, activation=\"sigmoid\")(x)\n",
    "    model = models.Model(inputs, outputs)\n",
    "    return model\n",
    "\n",
    "\n",
    "def margin_loss(y_true, y_pred):\n",
    "    L = y_true * K.square(K.maximum(0., 0.9 - y_pred)) + \\\n",
    "        0.5 * (1 - y_true) * K.square(K.maximum(0., y_pred - 0.1))\n",
    "    return K.mean(K.sum(L, 1))\n",
    "\n",
    "\n",
    "def test(model, X_test, y_test, args):\n",
    "    y_pred, x_recon = model.predict(X_test, batch_size=20)\n",
    "    print('-'*30 + 'Begin: test' + '-'*30)\n",
    "    print('Test acc:', np.sum(np.argmax(y_pred, 1) == np.argmax(y_test, 1))/y_test.shape[0])\n",
    "    return y_pred"
   ]
  },
  {
   "cell_type": "code",
   "execution_count": 6,
   "metadata": {
    "colab": {
     "base_uri": "https://localhost:8080/"
    },
    "collapsed": true,
    "id": "9LnzyRocqW_q",
    "jupyter": {
     "outputs_hidden": true
    },
    "outputId": "c22f1362-baaa-4177-c59e-ab61d6c3e32d",
    "tags": []
   },
   "outputs": [
    {
     "name": "stdout",
     "output_type": "stream",
     "text": [
      "Training fold 1...\n"
     ]
    },
    {
     "name": "stderr",
     "output_type": "stream",
     "text": [
      "2024-07-01 01:18:45.011626: I tensorflow/compiler/mlir/mlir_graph_optimization_pass.cc:116] None of the MLIR optimization passes are enabled (registered 2)\n",
      "2024-07-01 01:18:45.012082: I tensorflow/core/platform/profile_utils/cpu_utils.cc:112] CPU Frequency: 2400000000 Hz\n"
     ]
    },
    {
     "name": "stdout",
     "output_type": "stream",
     "text": [
      "Epoch 1/20\n"
     ]
    },
    {
     "name": "stderr",
     "output_type": "stream",
     "text": [
      "2024-07-01 01:18:47.608868: I tensorflow/stream_executor/platform/default/dso_loader.cc:49] Successfully opened dynamic library libcublas.so.10\n"
     ]
    },
    {
     "name": "stdout",
     "output_type": "stream",
     "text": [
      "482/482 [==============================] - 97s 195ms/step - loss: 0.6436 - accuracy: 0.6117 - val_loss: 0.5342 - val_accuracy: 0.7370\n",
      "Epoch 2/20\n",
      "482/482 [==============================] - 95s 197ms/step - loss: 0.4408 - accuracy: 0.7970 - val_loss: 0.4200 - val_accuracy: 0.8073\n",
      "Epoch 3/20\n",
      "482/482 [==============================] - 95s 197ms/step - loss: 0.3971 - accuracy: 0.8196 - val_loss: 0.4144 - val_accuracy: 0.8098\n",
      "Epoch 4/20\n",
      "482/482 [==============================] - 95s 198ms/step - loss: 0.3576 - accuracy: 0.8393 - val_loss: 0.4197 - val_accuracy: 0.8028\n",
      "Epoch 5/20\n",
      "482/482 [==============================] - 95s 196ms/step - loss: 0.3465 - accuracy: 0.8411 - val_loss: 0.3932 - val_accuracy: 0.8156\n",
      "Epoch 6/20\n",
      "482/482 [==============================] - 95s 197ms/step - loss: 0.3263 - accuracy: 0.8504 - val_loss: 0.3893 - val_accuracy: 0.8207\n",
      "Fold 1 AUC: 0.87291, AUPRC: 0.87455\n",
      "Training fold 2...\n",
      "Epoch 1/20\n",
      "482/482 [==============================] - 98s 198ms/step - loss: 0.6492 - accuracy: 0.5970 - val_loss: 0.4813 - val_accuracy: 0.7767\n",
      "Epoch 2/20\n",
      "482/482 [==============================] - 95s 198ms/step - loss: 0.4357 - accuracy: 0.7984 - val_loss: 0.5032 - val_accuracy: 0.7654\n",
      "Epoch 3/20\n",
      "482/482 [==============================] - 95s 197ms/step - loss: 0.3931 - accuracy: 0.8191 - val_loss: 0.5167 - val_accuracy: 0.7620\n",
      "Epoch 4/20\n",
      "482/482 [==============================] - 95s 197ms/step - loss: 0.3808 - accuracy: 0.8274 - val_loss: 0.4123 - val_accuracy: 0.8064\n",
      "Epoch 5/20\n",
      "482/482 [==============================] - 95s 197ms/step - loss: 0.3501 - accuracy: 0.8446 - val_loss: 0.4818 - val_accuracy: 0.7743\n",
      "Epoch 6/20\n",
      "482/482 [==============================] - 95s 196ms/step - loss: 0.3338 - accuracy: 0.8493 - val_loss: 0.3758 - val_accuracy: 0.8246\n",
      "Epoch 7/20\n",
      "482/482 [==============================] - 94s 196ms/step - loss: 0.2947 - accuracy: 0.8723 - val_loss: 0.3884 - val_accuracy: 0.8245\n",
      "Epoch 8/20\n",
      "482/482 [==============================] - 94s 196ms/step - loss: 0.2602 - accuracy: 0.8856 - val_loss: 0.3468 - val_accuracy: 0.8419\n",
      "Fold 2 AUC: 0.89520, AUPRC: 0.89465\n",
      "Training fold 3...\n",
      "Epoch 1/20\n",
      "482/482 [==============================] - 98s 198ms/step - loss: 0.6686 - accuracy: 0.5893 - val_loss: 0.4855 - val_accuracy: 0.7576\n",
      "Epoch 2/20\n",
      "482/482 [==============================] - 95s 197ms/step - loss: 0.4360 - accuracy: 0.7941 - val_loss: 0.4347 - val_accuracy: 0.7939\n",
      "Epoch 3/20\n",
      "482/482 [==============================] - 95s 198ms/step - loss: 0.3869 - accuracy: 0.8241 - val_loss: 0.4819 - val_accuracy: 0.7677\n",
      "Epoch 4/20\n",
      "482/482 [==============================] - 95s 197ms/step - loss: 0.3637 - accuracy: 0.8320 - val_loss: 0.3719 - val_accuracy: 0.8298\n",
      "Epoch 5/20\n",
      "482/482 [==============================] - 95s 198ms/step - loss: 0.3075 - accuracy: 0.8622 - val_loss: 0.3487 - val_accuracy: 0.8421\n",
      "Epoch 6/20\n",
      "482/482 [==============================] - 95s 197ms/step - loss: 0.2672 - accuracy: 0.8820 - val_loss: 0.3560 - val_accuracy: 0.8444\n",
      "Fold 3 AUC: 0.86833, AUPRC: 0.86474\n",
      "Training fold 4...\n",
      "Epoch 1/20\n",
      "482/482 [==============================] - 98s 198ms/step - loss: 0.6338 - accuracy: 0.6159 - val_loss: 0.4509 - val_accuracy: 0.7834\n",
      "Epoch 2/20\n",
      "482/482 [==============================] - 95s 197ms/step - loss: 0.4183 - accuracy: 0.8027 - val_loss: 0.4632 - val_accuracy: 0.7782\n",
      "Epoch 3/20\n",
      "482/482 [==============================] - 95s 197ms/step - loss: 0.3785 - accuracy: 0.8318 - val_loss: 0.4204 - val_accuracy: 0.8025\n",
      "Epoch 4/20\n",
      "482/482 [==============================] - 95s 197ms/step - loss: 0.3461 - accuracy: 0.8487 - val_loss: 0.3965 - val_accuracy: 0.8178\n",
      "Epoch 5/20\n",
      "482/482 [==============================] - 95s 196ms/step - loss: 0.3167 - accuracy: 0.8572 - val_loss: 0.4042 - val_accuracy: 0.8225\n",
      "Epoch 6/20\n",
      "482/482 [==============================] - 95s 197ms/step - loss: 0.2889 - accuracy: 0.8713 - val_loss: 0.3823 - val_accuracy: 0.8350\n",
      "Epoch 7/20\n",
      "482/482 [==============================] - 95s 196ms/step - loss: 0.2489 - accuracy: 0.8906 - val_loss: 0.4335 - val_accuracy: 0.8106\n",
      "Fold 4 AUC: 0.88970, AUPRC: 0.88910\n",
      "Training fold 5...\n",
      "Epoch 1/20\n",
      "482/482 [==============================] - 98s 198ms/step - loss: 0.6395 - accuracy: 0.6114 - val_loss: 0.4390 - val_accuracy: 0.7886\n",
      "Epoch 2/20\n",
      "482/482 [==============================] - 94s 196ms/step - loss: 0.4321 - accuracy: 0.7975 - val_loss: 0.4135 - val_accuracy: 0.8093\n",
      "Epoch 3/20\n",
      "482/482 [==============================] - 94s 196ms/step - loss: 0.3866 - accuracy: 0.8247 - val_loss: 0.4002 - val_accuracy: 0.8135\n",
      "Epoch 4/20\n",
      "482/482 [==============================] - 95s 196ms/step - loss: 0.3651 - accuracy: 0.8337 - val_loss: 0.4217 - val_accuracy: 0.8061\n",
      "Epoch 5/20\n",
      "482/482 [==============================] - 95s 197ms/step - loss: 0.3369 - accuracy: 0.8493 - val_loss: 0.4135 - val_accuracy: 0.8135\n",
      "Epoch 6/20\n",
      "482/482 [==============================] - 95s 197ms/step - loss: 0.3114 - accuracy: 0.8629 - val_loss: 0.3671 - val_accuracy: 0.8335\n",
      "Fold 5 AUC: 0.88058, AUPRC: 0.87413\n"
     ]
    }
   ],
   "source": [
    "n_splits = 5\n",
    "skf = StratifiedKFold(n_splits=n_splits, shuffle=True, random_state=42)\n",
    "\n",
    "aucs = []\n",
    "auprcs = []\n",
    "\n",
    "for fold, (train_index, test_index) in enumerate(skf.split(x_train_tf, y_train)):\n",
    "    print(f\"Training fold {fold+1}...\")\n",
    "    \n",
    "    x_train_fold = tf.gather(x_train_tf, train_index)\n",
    "    x_val_fold = tf.gather(x_train_tf, test_index)\n",
    "    y_train_fold, y_val_fold = y_train[train_index], y_train[test_index]\n",
    "    \n",
    "    # define model\n",
    "    model = CapsNet(input_shape=x_train_tf[1,:,:].shape, n_class=10, routings=5)\n",
    "    model.compile(optimizer=optimizers.Adam(lr=0.0001, amsgrad=True),\n",
    "                  loss='binary_crossentropy', metrics=[\"accuracy\"])\n",
    "    \n",
    "    earlystopping = callbacks.EarlyStopping(monitor=\"val_accuracy\", \n",
    "                                            mode=\"min\", patience=5, \n",
    "                                            restore_best_weights=True)\n",
    "    \n",
    "    history = model.fit(x_train_fold, y_train_fold, batch_size=64, epochs=20,\n",
    "                        validation_data=(x_val_fold, y_val_fold),\n",
    "                        shuffle=True, callbacks=[earlystopping])\n",
    "    \n",
    "    # \n",
    "    y_pred_prob = model.predict(x_val_fold).ravel()\n",
    "    \n",
    "    # \n",
    "    fpr, tpr, _ = roc_curve(y_val_fold, y_pred_prob)\n",
    "    roc_auc = auc(fpr, tpr)\n",
    "    aucs.append(roc_auc)\n",
    "    \n",
    "    # \n",
    "    precision, recall, _ = precision_recall_curve(y_val_fold, y_pred_prob)\n",
    "    auprc = average_precision_score(y_val_fold, y_pred_prob)\n",
    "    auprcs.append(auprc)\n",
    "    \n",
    "    print(f\"Fold {fold+1} AUC: {roc_auc:.5f}, AUPRC: {auprc:.5f}\")\n",
    "    \n",
    "    # \n",
    "    today = date.today()\n",
    "    # model.save(f'./model/weightmodel_noindv_round{fold+1}_{today}')\n",
    "    \n"
   ]
  },
  {
   "cell_type": "code",
   "execution_count": 7,
   "metadata": {},
   "outputs": [
    {
     "data": {
      "text/plain": [
       "([0.872914926936048,\n",
       "  0.8951951785014336,\n",
       "  0.868325487131336,\n",
       "  0.8896985533257314,\n",
       "  0.8805772802810565],\n",
       " [0.8745503897108097,\n",
       "  0.8946477478497267,\n",
       "  0.864737088710366,\n",
       "  0.889097658664193,\n",
       "  0.8741331142605231])"
      ]
     },
     "execution_count": 7,
     "metadata": {},
     "output_type": "execute_result"
    }
   ],
   "source": [
    "aucs, auprcs"
   ]
  },
  {
   "cell_type": "code",
   "execution_count": 8,
   "metadata": {
    "tags": []
   },
   "outputs": [],
   "source": [
    "# \n",
    "plt.figure()\n",
    "plt.plot(fpr, tpr, label=f'ROC curve (AUC = {roc_auc:.2f})')\n",
    "plt.plot([0, 1], [0, 1], 'k--')\n",
    "plt.xlabel('False Positive Rate')\n",
    "plt.ylabel('True Positive Rate')\n",
    "plt.title(f'ROC Curve - Fold {fold+1}')\n",
    "plt.legend(loc='lower right')\n",
    "#plt.savefig(f'roc_curve_fold{fold+1}_{today}.png')\n",
    "plt.close()\n",
    "\n",
    "plt.figure()\n",
    "plt.plot(recall, precision, label=f'PR curve (AUPRC = {auprc:.2f})')\n",
    "plt.xlabel('Recall')\n",
    "plt.ylabel('Precision')\n",
    "plt.title(f'Precision-Recall Curve - Fold {fold+1}')\n",
    "plt.legend(loc='lower left')\n",
    "#plt.savefig(f'pr_curve_fold{fold+1}_{today}.png')\n",
    "plt.close()"
   ]
  },
  {
   "cell_type": "code",
   "execution_count": 8,
   "metadata": {
    "colab": {
     "base_uri": "https://localhost:8080/",
     "height": 624
    },
    "id": "BMrme_1dXuT4",
    "outputId": "b56a34c0-67fc-47e9-87f8-343175718c27"
   },
   "outputs": [
    {
     "name": "stdout",
     "output_type": "stream",
     "text": [
      "Testing accuracy: 0.7798358733880422\n",
      "AUROC = 0.87532\n",
      "AUPRC = 0.86604\n",
      "f1_score = 0.74967\n"
     ]
    }
   ],
   "source": [
    "testresult=model.predict(x_test)\n",
    "i = 0\n",
    "correct = 0\n",
    "for x in testresult:\n",
    "    if x >=0.5 and y_test[i] == 1:\n",
    "        correct = correct + 1\n",
    "    elif x < 0.5 and y_test[i] == 0:\n",
    "        correct = correct + 1\n",
    "    i = i + 1\n",
    "testacc = correct/i\n",
    "print(\"Testing accuracy:\",testacc)\n",
    "\n",
    "fpr, tpr, _ = roc_curve(y_test,testresult)\n",
    "roc_auc = auc(fpr,tpr)\n",
    "print(\"AUROC = %.05f\"% roc_auc)\n",
    "\n",
    "precision, recall, _ = precision_recall_curve(y_test,testresult)\n",
    "prc_auc = auc(recall,precision)\n",
    "print(\"AUPRC = %.05f\"% prc_auc)\n",
    "ss = np.zeros((len(testresult)))\n",
    "i = 0\n",
    "for x in testresult:\n",
    "    if x >= 0.5:\n",
    "        ss[i] = 1\n",
    "    else:\n",
    "        ss[i] = 0\n",
    "    i = i + 1\n",
    "f1s = f1_score(y_test,ss)\n",
    "print(\"f1_score = %.05f\"% f1s)"
   ]
  },
  {
   "cell_type": "code",
   "execution_count": 12,
   "metadata": {},
   "outputs": [],
   "source": [
    "# pd.DataFrame(testresult).to_csv('../capsnetweighted_rount5.csv',header=None, index=None)\n",
    "# pd.DataFrame(y_test).to_csv('../capsnet_y_rount5.csv',header=None, index=None)"
   ]
  },
  {
   "cell_type": "code",
   "execution_count": null,
   "metadata": {},
   "outputs": [],
   "source": []
  }
 ],
 "metadata": {
  "accelerator": "GPU",
  "colab": {
   "authorship_tag": "ABX9TyOtaemKyucoLNUMUXY77UrD",
   "collapsed_sections": [],
   "include_colab_link": true,
   "name": "NEW NEW capsnet.ipynb",
   "provenance": []
  },
  "kernelspec": {
   "display_name": "tf-gpu",
   "language": "python",
   "name": "tf-gpu"
  },
  "language_info": {
   "codemirror_mode": {
    "name": "ipython",
    "version": 3
   },
   "file_extension": ".py",
   "mimetype": "text/x-python",
   "name": "python",
   "nbconvert_exporter": "python",
   "pygments_lexer": "ipython3",
   "version": "3.8.12"
  }
 },
 "nbformat": 4,
 "nbformat_minor": 4
}
