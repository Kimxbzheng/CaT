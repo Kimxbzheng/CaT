{
 "cells": [
  {
   "cell_type": "code",
   "execution_count": 1,
   "id": "df459dbf",
   "metadata": {
    "executionInfo": {
     "elapsed": 6031,
     "status": "ok",
     "timestamp": 1680593704839,
     "user": {
      "displayName": "郑旭彬",
      "userId": "02780536813333123425"
     },
     "user_tz": -480
    },
    "id": "df459dbf"
   },
   "outputs": [
    {
     "name": "stderr",
     "output_type": "stream",
     "text": [
      "2024-07-04 15:40:38.529377: I tensorflow/stream_executor/platform/default/dso_loader.cc:49] Successfully opened dynamic library libcudart.so.10.1\n"
     ]
    }
   ],
   "source": [
    "from tensorflow import keras\n",
    "from tensorflow.keras import datasets, layers, models, optimizers\n",
    "import pandas as pd\n",
    "from sklearn.model_selection import train_test_split\n",
    "from sklearn.utils import class_weight\n",
    "import numpy as np\n",
    "from sklearn.metrics import *\n",
    "from tensorflow.keras import callbacks\n",
    "import seaborn as sns\n",
    "import matplotlib.pyplot as plt\n",
    "from tensorflow.keras import backend as K\n",
    "\n",
    "from sklearn.linear_model import Lasso\n",
    "from sklearn.linear_model import LogisticRegression\n",
    "from sklearn.neighbors import KNeighborsClassifier\n",
    "from sklearn.svm import SVC\n",
    "from sklearn.ensemble import RandomForestClassifier\n",
    "from sklearn.naive_bayes import GaussianNB\n",
    "from sklearn.tree import DecisionTreeClassifier\n",
    "from sklearn.discriminant_analysis import QuadraticDiscriminantAnalysis\n",
    "from scipy.stats import ttest_ind\n",
    "import matplotlib"
   ]
  },
  {
   "cell_type": "code",
   "execution_count": 2,
   "id": "92308095-e0aa-486f-b0be-d427f2549cf5",
   "metadata": {},
   "outputs": [],
   "source": [
    "import os\n",
    "os.environ['CUDA_VISIBLE_DEVICES'] = '1'"
   ]
  },
  {
   "cell_type": "code",
   "execution_count": 2,
   "id": "971db149",
   "metadata": {
    "id": "971db149",
    "tags": []
   },
   "outputs": [],
   "source": [
    "rna_idx=pd.read_csv(\"../data/dataBulk/common_rna.csv\",index_col=0).values.squeeze().tolist()\n",
    "\n",
    "# prepare training data\n",
    "files=[\"95233\",\"26440\",\"57065\",\"4607\",\"8121\",\"9692\",\"13904\",\"26378\",\"28750\"]\n",
    "data = []\n",
    "label = []\n",
    "\n",
    "for file in files:\n",
    "    if file == \"13904\":\n",
    "        df=pd.read_csv(\"../data/dataBulk/exp.gene.mRNA.GSE\"+file+'.txt' , sep=\"\\t\").T\n",
    "        df_label=pd.read_csv(\"../data/dataBulk/label_GSE\"+file+'.txt' , sep=\"\\t\",header=None)\n",
    "        x=df[rna_idx].T\n",
    "        x=x[df_label[0]].T.values\n",
    "        data.append(x)\n",
    "        label.append(df_label[2].values>0)\n",
    "    else:\n",
    "        df=pd.read_csv(\"../data/dataBulk/exp.gene.mRNA.GSE\"+file+'.txt' , sep=\"\\t\").T\n",
    "        data.append(df[rna_idx].values)\n",
    "        df_label=pd.read_csv(\"../data/dataBulk/label_GSE\"+file+'.txt' , sep=\"\\t\",header=None)[2].values\n",
    "        label.append(df_label>0)"
   ]
  },
  {
   "cell_type": "code",
   "execution_count": 3,
   "id": "K35ynKZXHTFR",
   "metadata": {
    "colab": {
     "base_uri": "https://localhost:8080/"
    },
    "executionInfo": {
     "elapsed": 9,
     "status": "ok",
     "timestamp": 1680524553626,
     "user": {
      "displayName": "郑旭彬",
      "userId": "02780536813333123425"
     },
     "user_tz": -480
    },
    "id": "K35ynKZXHTFR",
    "outputId": "15930e3b-d143-443f-e073-a06b3bf6cdd4"
   },
   "outputs": [
    {
     "name": "stdout",
     "output_type": "stream",
     "text": [
      "(124, 2869) (124,)\n",
      "(130, 2869) (130,)\n",
      "(107, 2869) (107,)\n",
      "(123, 2869) (123,)\n",
      "(75, 2869) (75,)\n",
      "(45, 2869) (45,)\n",
      "(70, 2869) (70,)\n",
      "(103, 2869) (103,)\n",
      "(30, 2869) (30,)\n"
     ]
    }
   ],
   "source": [
    "for i,j in zip(data,label):\n",
    "    print(i.shape,j.shape)"
   ]
  },
  {
   "cell_type": "code",
   "execution_count": 15,
   "id": "ad96f0d0-ee89-403a-b13f-c6f17b3d7585",
   "metadata": {},
   "outputs": [
    {
     "data": {
      "text/plain": [
       "(77.0997, 0.0123)"
      ]
     },
     "execution_count": 15,
     "metadata": {},
     "output_type": "execute_result"
    }
   ],
   "source": [
    "data[5].max(),data[5].min()"
   ]
  },
  {
   "cell_type": "code",
   "execution_count": 16,
   "id": "acf8e84c-8ff7-4a1f-aece-22a26b41ea03",
   "metadata": {
    "tags": []
   },
   "outputs": [
    {
     "data": {
      "text/plain": [
       "(77.09969999999994, 0.01229999999999999)"
      ]
     },
     "execution_count": 16,
     "metadata": {},
     "output_type": "execute_result"
    }
   ],
   "source": [
    "mean,std = 9.435935231248593e-19, 1.0000000000000007\n",
    "data = [(arr - mean) / std for arr in data]\n",
    "data[5].max(),data[5].min()"
   ]
  },
  {
   "cell_type": "code",
   "execution_count": 9,
   "id": "520daebe",
   "metadata": {},
   "outputs": [
    {
     "data": {
      "text/plain": [
       "(392,)"
      ]
     },
     "execution_count": 9,
     "metadata": {},
     "output_type": "execute_result"
    }
   ],
   "source": [
    "df_rna_idx = pd.Series(rna_idx)\n",
    "df_rna_idx.name='gene'\n",
    "\n",
    "dfseq1 = pd.read_csv('../data/dataBulk/RNAseq/tpm_185263.txt',sep = '\\t')\n",
    "dfseq1.index.name='gene'\n",
    "\n",
    "dfseq1 = pd.merge(df_rna_idx, dfseq1, on='gene', how = 'left').fillna(0)\n",
    "dfseq1 = dfseq1.drop(columns='gene').T\n",
    "seq1 = dfseq1.values\n",
    "\n",
    "seq1_label = pd.read_csv('../data/dataBulk/RNAseq/185263_label.txt').values.squeeze()\n",
    "seq1_label.shape"
   ]
  },
  {
   "cell_type": "code",
   "execution_count": 11,
   "id": "0f016170-76bd-4ae1-a043-304332daf7e5",
   "metadata": {},
   "outputs": [
    {
     "data": {
      "text/plain": [
       "(257664.306277662, 0.0)"
      ]
     },
     "execution_count": 11,
     "metadata": {},
     "output_type": "execute_result"
    }
   ],
   "source": [
    "seq1.max(),seq1.min()"
   ]
  },
  {
   "cell_type": "code",
   "execution_count": 7,
   "id": "3188ab5c-c1de-4951-8ff0-81cded85f5e6",
   "metadata": {},
   "outputs": [],
   "source": [
    "mean,std = 9.435935231248593e-19, 1.0000000000000007"
   ]
  },
  {
   "cell_type": "code",
   "execution_count": 12,
   "id": "971ec629-09a9-4e49-b70b-d50e31dde13b",
   "metadata": {},
   "outputs": [
    {
     "data": {
      "text/plain": [
       "(257664.30627766182, -9.435935231248587e-19)"
      ]
     },
     "execution_count": 12,
     "metadata": {},
     "output_type": "execute_result"
    }
   ],
   "source": [
    "seq1 = (seq1 - mean) / std\n",
    "seq1.max(),seq1.min()"
   ]
  },
  {
   "cell_type": "code",
   "execution_count": 13,
   "id": "bd5eb32a",
   "metadata": {},
   "outputs": [
    {
     "name": "stdout",
     "output_type": "stream",
     "text": [
      "(117,) (275,)\n"
     ]
    }
   ],
   "source": [
    "seq_train,seq_val, seqlabel_train,seqlabel_val = train_test_split(seq1,seq1_label,test_size=0.7,random_state=42)\n",
    "print(seqlabel_train.shape,seqlabel_val.shape)"
   ]
  },
  {
   "cell_type": "code",
   "execution_count": 7,
   "id": "deb5e7c0",
   "metadata": {},
   "outputs": [
    {
     "name": "stdout",
     "output_type": "stream",
     "text": [
      "103\n",
      "245\n"
     ]
    }
   ],
   "source": [
    "print(sum(seqlabel_train))\n",
    "print(sum(seqlabel_val))"
   ]
  },
  {
   "cell_type": "code",
   "execution_count": 5,
   "id": "OlmHUWrsU5MZ",
   "metadata": {
    "id": "OlmHUWrsU5MZ"
   },
   "outputs": [],
   "source": [
    "def loadmodel():\n",
    "    org_model = keras.models.load_model(\"../modelsave/0623weightmodel_domaindpec\")\n",
    "    org_model = models.Model(inputs=org_model.input, outputs=org_model.get_layer('dense_6').output) # do not include final classifier\n",
    "    return org_model"
   ]
  },
  {
   "cell_type": "code",
   "execution_count": 6,
   "id": "1af3e09f",
   "metadata": {
    "id": "1af3e09f"
   },
   "outputs": [],
   "source": [
    "def transfer(org_model,sample,label):\n",
    "    xtr,xval, ytr,yval = train_test_split(sample,label,test_size=0.2,random_state=42)\n",
    "    cw = class_weight.compute_class_weight(class_weight='balanced',classes=np.unique(ytr),y=ytr)\n",
    "    cw = {0:cw[0],1:cw[1]}\n",
    "    \n",
    "    org_model.trainable = False\n",
    "    inputs = keras.Input(shape=(2869,1))\n",
    "    x = org_model(inputs, training=False)\n",
    "    outputs = layers.Dense(1, activation=\"sigmoid\")(x)\n",
    "    model = keras.Model(inputs, outputs)\n",
    "\n",
    "    model.compile(optimizer=\"adam\", loss=\"binary_crossentropy\", metrics=[\"accuracy\"])\n",
    "    model.fit(xtr, ytr, batch_size=10, epochs=30, validation_data=(xval, yval),shuffle=True,class_weight=cw)\n",
    "\n",
    "    org_model.trainable = True\n",
    "    model.compile(optimizer=keras.optimizers.Adam(1e-5),  # Very low learning rate\n",
    "              loss=keras.losses.BinaryCrossentropy(from_logits=True),\n",
    "              metrics=[keras.metrics.BinaryAccuracy()])\n",
    "    earlystopping = callbacks.EarlyStopping(monitor =\"val_binary_accuracy\", mode =\"min\", patience = 5, \n",
    "                                        restore_best_weights = True)\n",
    "    model.fit(xtr, ytr, batch_size=10, epochs=30,validation_data=(xval, yval),\n",
    "               shuffle=True,class_weight=cw)\n",
    "\n",
    "    return model"
   ]
  },
  {
   "cell_type": "code",
   "execution_count": 12,
   "id": "d0aa4164",
   "metadata": {
    "id": "d0aa4164",
    "jupyter": {
     "source_hidden": true
    },
    "tags": []
   },
   "outputs": [],
   "source": [
    "def drawsota(roc1,file_train):\n",
    "    cohorts = roc1['Cohort'].unique().tolist()\n",
    "    model_names = roc1['Model'].unique().tolist()\n",
    "\n",
    "    model_aucs = []\n",
    "    for model in model_names:\n",
    "        model_aucs.append(roc1[roc1['Model']==model]['AUC'].tolist())\n",
    "\n",
    "    num_models = len(model_names)\n",
    "\n",
    "    shift = num_models // 2 # the middle point to shift\n",
    "\n",
    "    x = np.arange(len(cohorts))*2  # the label locations\n",
    "    width = 0.4  # the width of the bars\n",
    "\n",
    "    fig, ax = plt.subplots(figsize=(10,6))\n",
    "\n",
    "    model_axs = []\n",
    "    for i in range(num_models):\n",
    "        model_axs.append(ax.bar(x + (i-shift)*width, model_aucs[i], width, label=model_names[i],color = colors[i]))\n",
    "    # Add some text for labels, title and custom x-axis tick labels, etc.\n",
    "    ax.set_ylabel('AUROC Score',size = 20)\n",
    "    ax.set_title('AUROC on microarray compared with biomarkers',size=20)\n",
    "    ax.set_ylim(ymin=0.4,ymax=1.1)\n",
    "    ax.set_xticks(x, cohorts)\n",
    "    ax.legend()\n",
    "\n",
    "    for model_ax in model_axs:\n",
    "        ax.bar_label(model_ax, padding=-45, fmt='%.3f', rotation='vertical',size=15)\n",
    "\n",
    "    plt.legend(loc='lower right',prop={'size':15})\n",
    "\n",
    "    fig.tight_layout()\n",
    "\n",
    "    plt.savefig('./'+file_train+'sota0606.png',dpi=100)\n",
    "\n",
    "    plt.show()"
   ]
  },
  {
   "cell_type": "code",
   "execution_count": 20,
   "id": "GslYeMJunlTG",
   "metadata": {
    "id": "GslYeMJunlTG",
    "jupyter": {
     "source_hidden": true
    },
    "tags": []
   },
   "outputs": [],
   "source": [
    "colors = ['#9e2a2b','#897966', '#EAB69F',  '#8F5D5D',\n",
    "         '#3D405B', '#5F797B', '#81B29A', '#BABF95', '#F2CC8F']\n",
    "names = [\"K-Nearest Neighbors\", \"DecisionTree\",\n",
    "         \"Random Forest\", \"Naive Bayes\", \"Quadratic Discriminant Analysis\"]\n",
    "classifiers = [\n",
    "    KNeighborsClassifier(),\n",
    "    DecisionTreeClassifier(random_state=7),\n",
    "    RandomForestClassifier(random_state=7),\n",
    "    GaussianNB(),\n",
    "    QuadraticDiscriminantAnalysis()]"
   ]
  },
  {
   "cell_type": "code",
   "execution_count": 14,
   "id": "076a6c10",
   "metadata": {
    "id": "076a6c10",
    "jupyter": {
     "source_hidden": true
    },
    "tags": []
   },
   "outputs": [],
   "source": [
    "def drawML(roc2,file_train):\n",
    "    cohorts = roc2['Cohort'].unique().tolist()\n",
    "    model_names = roc2['Model'].unique().tolist()\n",
    "\n",
    "    model_aucs = []\n",
    "    for model in model_names:\n",
    "        model_aucs.append(roc2[roc2['Model']==model]['AUC'].tolist())\n",
    "\n",
    "    num_models = len(model_names)\n",
    "\n",
    "    shift = num_models // 2 # the middle point to shift\n",
    "\n",
    "    x = np.arange(len(cohorts))*4  # the label locations\n",
    "    width = 0.4  # the width of the bars\n",
    "\n",
    "    fig, ax = plt.subplots(figsize=(15,5))\n",
    "\n",
    "    model_axs = []\n",
    "    colors = ['#9e2a2b','#897966', '#EAB69F',  '#8F5D5D','#3D405B', '#5F797B', '#81B29A', '#BABF95', '#F2CC8F']\n",
    "\n",
    "    for i in range(num_models):\n",
    "        model_axs.append(ax.bar(x + (i-shift)*width, model_aucs[i], width, label=model_names[i],color = colors[i]))\n",
    "    # Add some text for labels, title and custom x-axis tick labels, etc.\n",
    "    ax.set_ylabel('AUROC Score',size=15)\n",
    "    ax.set_title('AUROC on microarray data',size=15)\n",
    "    ax.set_xticks(x, cohorts,fontsize=14)\n",
    "    ax.set_ylim(ymin=0.3,ymax=1.1)\n",
    "    ax.legend()\n",
    "\n",
    "    for model_ax in model_axs:\n",
    "        ax.bar_label(model_ax, padding=-40, fmt='%.3f', rotation='vertical', size=13)\n",
    "\n",
    "    plt.legend(loc='lower left',bbox_to_anchor = (0,-0.3), ncol=5,prop={'size':13})\n",
    "\n",
    "    fig.tight_layout()\n",
    "    plt.savefig('./'+file_train+'ML0613.png',dpi=100)\n",
    "\n",
    "    plt.show()"
   ]
  },
  {
   "cell_type": "code",
   "execution_count": null,
   "id": "ddcf76fe-2693-4c3b-a8ee-9bc025596c27",
   "metadata": {},
   "outputs": [],
   "source": []
  },
  {
   "cell_type": "code",
   "execution_count": 19,
   "id": "2bb4d77e-1fd0-4a42-b6b6-5c3f47bb3580",
   "metadata": {
    "collapsed": true,
    "jupyter": {
     "outputs_hidden": true
    },
    "tags": []
   },
   "outputs": [
    {
     "name": "stderr",
     "output_type": "stream",
     "text": [
      "/home/dm/anaconda3/envs/tf-gpu/lib/python3.8/site-packages/tensorflow/python/keras/layers/core.py:1057: UserWarning: cap is not loaded, but a Lambda layer uses it. It may cause errors.\n",
      "  warnings.warn('{} is not loaded, but a Lambda layer uses it. '\n"
     ]
    },
    {
     "name": "stdout",
     "output_type": "stream",
     "text": [
      "Epoch 1/30\n",
      "29/29 [==============================] - 4s 67ms/step - loss: 1.1252 - accuracy: 0.2289 - val_loss: 0.7482 - val_accuracy: 0.4384\n",
      "Epoch 2/30\n",
      "29/29 [==============================] - 1s 33ms/step - loss: 0.8017 - accuracy: 0.6636 - val_loss: 0.7414 - val_accuracy: 0.0959\n",
      "Epoch 3/30\n",
      "29/29 [==============================] - 1s 31ms/step - loss: 0.6973 - accuracy: 0.4485 - val_loss: 0.6221 - val_accuracy: 0.8219\n",
      "Epoch 4/30\n",
      "29/29 [==============================] - 1s 29ms/step - loss: 0.6043 - accuracy: 0.7755 - val_loss: 0.5734 - val_accuracy: 0.8767\n",
      "Epoch 5/30\n",
      "29/29 [==============================] - 1s 30ms/step - loss: 0.5687 - accuracy: 0.8213 - val_loss: 0.4920 - val_accuracy: 0.9041\n",
      "Epoch 6/30\n",
      "29/29 [==============================] - 1s 27ms/step - loss: 0.5210 - accuracy: 0.8222 - val_loss: 0.4813 - val_accuracy: 0.8767\n",
      "Epoch 7/30\n",
      "29/29 [==============================] - 1s 29ms/step - loss: 0.5129 - accuracy: 0.7712 - val_loss: 0.4128 - val_accuracy: 0.9041\n",
      "Epoch 8/30\n",
      "29/29 [==============================] - 1s 28ms/step - loss: 0.4958 - accuracy: 0.8131 - val_loss: 0.3692 - val_accuracy: 0.9315\n",
      "Epoch 9/30\n",
      "29/29 [==============================] - 1s 28ms/step - loss: 0.5138 - accuracy: 0.8092 - val_loss: 0.3554 - val_accuracy: 0.9178\n",
      "Epoch 10/30\n",
      "29/29 [==============================] - 1s 28ms/step - loss: 0.4179 - accuracy: 0.8789 - val_loss: 0.3630 - val_accuracy: 0.8904\n",
      "Epoch 11/30\n",
      "29/29 [==============================] - 1s 29ms/step - loss: 0.4093 - accuracy: 0.8102 - val_loss: 0.3338 - val_accuracy: 0.9041\n",
      "Epoch 12/30\n",
      "29/29 [==============================] - 1s 28ms/step - loss: 0.4500 - accuracy: 0.7999 - val_loss: 0.3129 - val_accuracy: 0.9178\n",
      "Epoch 13/30\n",
      "29/29 [==============================] - 1s 29ms/step - loss: 0.3686 - accuracy: 0.8764 - val_loss: 0.3139 - val_accuracy: 0.9041\n",
      "Epoch 14/30\n",
      "29/29 [==============================] - 1s 28ms/step - loss: 0.3943 - accuracy: 0.8403 - val_loss: 0.3007 - val_accuracy: 0.9041\n",
      "Epoch 15/30\n",
      "29/29 [==============================] - 1s 27ms/step - loss: 0.4291 - accuracy: 0.8169 - val_loss: 0.2732 - val_accuracy: 0.9452\n",
      "Epoch 16/30\n",
      "29/29 [==============================] - 1s 29ms/step - loss: 0.4400 - accuracy: 0.8299 - val_loss: 0.2757 - val_accuracy: 0.9178\n",
      "Epoch 17/30\n",
      "29/29 [==============================] - 1s 28ms/step - loss: 0.4066 - accuracy: 0.8058 - val_loss: 0.2806 - val_accuracy: 0.9041\n",
      "Epoch 18/30\n",
      "29/29 [==============================] - 1s 27ms/step - loss: 0.3577 - accuracy: 0.8262 - val_loss: 0.2576 - val_accuracy: 0.9452\n",
      "Epoch 19/30\n",
      "29/29 [==============================] - 1s 28ms/step - loss: 0.3758 - accuracy: 0.8058 - val_loss: 0.2679 - val_accuracy: 0.9041\n",
      "Epoch 20/30\n",
      "29/29 [==============================] - 1s 28ms/step - loss: 0.3332 - accuracy: 0.8465 - val_loss: 0.2621 - val_accuracy: 0.9041\n",
      "Epoch 21/30\n",
      "29/29 [==============================] - 1s 28ms/step - loss: 0.3617 - accuracy: 0.8357 - val_loss: 0.2559 - val_accuracy: 0.9041\n",
      "Epoch 22/30\n",
      "29/29 [==============================] - 1s 28ms/step - loss: 0.3348 - accuracy: 0.8491 - val_loss: 0.2550 - val_accuracy: 0.9041\n",
      "Epoch 23/30\n",
      "29/29 [==============================] - 1s 28ms/step - loss: 0.4271 - accuracy: 0.8032 - val_loss: 0.2341 - val_accuracy: 0.9452\n",
      "Epoch 24/30\n",
      "29/29 [==============================] - 1s 28ms/step - loss: 0.3114 - accuracy: 0.8823 - val_loss: 0.2469 - val_accuracy: 0.9041\n",
      "Epoch 25/30\n",
      "29/29 [==============================] - 1s 27ms/step - loss: 0.4230 - accuracy: 0.8137 - val_loss: 0.2291 - val_accuracy: 0.9452\n",
      "Epoch 26/30\n",
      "29/29 [==============================] - 1s 27ms/step - loss: 0.3418 - accuracy: 0.8523 - val_loss: 0.2354 - val_accuracy: 0.9315\n",
      "Epoch 27/30\n",
      "29/29 [==============================] - 1s 28ms/step - loss: 0.3003 - accuracy: 0.8783 - val_loss: 0.2288 - val_accuracy: 0.9315\n",
      "Epoch 28/30\n",
      "29/29 [==============================] - 1s 26ms/step - loss: 0.3699 - accuracy: 0.8539 - val_loss: 0.2165 - val_accuracy: 0.9452\n",
      "Epoch 29/30\n",
      "29/29 [==============================] - 1s 27ms/step - loss: 0.3516 - accuracy: 0.8386 - val_loss: 0.2233 - val_accuracy: 0.9315\n",
      "Epoch 30/30\n",
      "29/29 [==============================] - 1s 28ms/step - loss: 0.3560 - accuracy: 0.8322 - val_loss: 0.2120 - val_accuracy: 0.9452\n",
      "Epoch 1/30\n",
      "29/29 [==============================] - 6s 95ms/step - loss: 0.3258 - binary_accuracy: 0.8782 - val_loss: 0.1649 - val_binary_accuracy: 0.9726\n",
      "Epoch 2/30\n",
      "29/29 [==============================] - 2s 69ms/step - loss: 0.2859 - binary_accuracy: 0.9195 - val_loss: 0.1307 - val_binary_accuracy: 0.9726\n",
      "Epoch 3/30\n",
      "29/29 [==============================] - 2s 71ms/step - loss: 0.3030 - binary_accuracy: 0.8694 - val_loss: 0.1162 - val_binary_accuracy: 0.9726\n",
      "Epoch 4/30\n",
      "29/29 [==============================] - 2s 67ms/step - loss: 0.1856 - binary_accuracy: 0.9170 - val_loss: 0.1002 - val_binary_accuracy: 0.9726\n",
      "Epoch 5/30\n",
      "29/29 [==============================] - 2s 70ms/step - loss: 0.1768 - binary_accuracy: 0.9292 - val_loss: 0.0820 - val_binary_accuracy: 0.9726\n",
      "Epoch 6/30\n",
      "29/29 [==============================] - 2s 68ms/step - loss: 0.1826 - binary_accuracy: 0.9479 - val_loss: 0.0746 - val_binary_accuracy: 1.0000\n",
      "Epoch 7/30\n",
      "29/29 [==============================] - 2s 66ms/step - loss: 0.1452 - binary_accuracy: 0.9411 - val_loss: 0.0609 - val_binary_accuracy: 1.0000\n",
      "Epoch 8/30\n",
      "29/29 [==============================] - 2s 67ms/step - loss: 0.1481 - binary_accuracy: 0.9225 - val_loss: 0.0515 - val_binary_accuracy: 1.0000\n",
      "Epoch 9/30\n",
      "29/29 [==============================] - 2s 67ms/step - loss: 0.1384 - binary_accuracy: 0.9601 - val_loss: 0.0446 - val_binary_accuracy: 1.0000\n",
      "Epoch 10/30\n",
      "29/29 [==============================] - 2s 66ms/step - loss: 0.1217 - binary_accuracy: 0.9547 - val_loss: 0.0387 - val_binary_accuracy: 1.0000\n",
      "Epoch 11/30\n",
      "29/29 [==============================] - 2s 64ms/step - loss: 0.1283 - binary_accuracy: 0.9473 - val_loss: 0.0345 - val_binary_accuracy: 1.0000\n",
      "Epoch 12/30\n",
      "29/29 [==============================] - 2s 64ms/step - loss: 0.1007 - binary_accuracy: 0.9382 - val_loss: 0.0327 - val_binary_accuracy: 1.0000\n",
      "Epoch 13/30\n",
      "29/29 [==============================] - 2s 64ms/step - loss: 0.0920 - binary_accuracy: 0.9596 - val_loss: 0.0287 - val_binary_accuracy: 1.0000\n",
      "Epoch 14/30\n",
      "29/29 [==============================] - 2s 67ms/step - loss: 0.1137 - binary_accuracy: 0.9418 - val_loss: 0.0248 - val_binary_accuracy: 1.0000\n",
      "Epoch 15/30\n",
      "29/29 [==============================] - 2s 64ms/step - loss: 0.0882 - binary_accuracy: 0.9657 - val_loss: 0.0301 - val_binary_accuracy: 1.0000\n",
      "Epoch 16/30\n",
      "29/29 [==============================] - 2s 66ms/step - loss: 0.1094 - binary_accuracy: 0.9154 - val_loss: 0.0210 - val_binary_accuracy: 1.0000\n",
      "Epoch 17/30\n",
      "29/29 [==============================] - 2s 66ms/step - loss: 0.0942 - binary_accuracy: 0.9540 - val_loss: 0.0387 - val_binary_accuracy: 1.0000\n",
      "Epoch 18/30\n",
      "29/29 [==============================] - 2s 64ms/step - loss: 0.0808 - binary_accuracy: 0.9563 - val_loss: 0.0185 - val_binary_accuracy: 1.0000\n",
      "Epoch 19/30\n",
      "29/29 [==============================] - 2s 64ms/step - loss: 0.0696 - binary_accuracy: 0.9637 - val_loss: 0.0354 - val_binary_accuracy: 1.0000\n",
      "Epoch 20/30\n",
      "29/29 [==============================] - 2s 66ms/step - loss: 0.0821 - binary_accuracy: 0.9795 - val_loss: 0.0154 - val_binary_accuracy: 1.0000\n",
      "Epoch 21/30\n",
      "29/29 [==============================] - 2s 68ms/step - loss: 0.0710 - binary_accuracy: 0.9573 - val_loss: 0.0173 - val_binary_accuracy: 1.0000\n",
      "Epoch 22/30\n",
      "29/29 [==============================] - 2s 65ms/step - loss: 0.0810 - binary_accuracy: 0.9579 - val_loss: 0.0209 - val_binary_accuracy: 1.0000\n",
      "Epoch 23/30\n",
      "29/29 [==============================] - 2s 66ms/step - loss: 0.0624 - binary_accuracy: 0.9707 - val_loss: 0.0146 - val_binary_accuracy: 1.0000\n",
      "Epoch 24/30\n",
      "29/29 [==============================] - 2s 64ms/step - loss: 0.0500 - binary_accuracy: 0.9745 - val_loss: 0.0112 - val_binary_accuracy: 1.0000\n",
      "Epoch 25/30\n",
      "29/29 [==============================] - 2s 65ms/step - loss: 0.0515 - binary_accuracy: 0.9754 - val_loss: 0.0106 - val_binary_accuracy: 1.0000\n",
      "Epoch 26/30\n",
      "29/29 [==============================] - 2s 65ms/step - loss: 0.0571 - binary_accuracy: 0.9709 - val_loss: 0.0145 - val_binary_accuracy: 1.0000\n",
      "Epoch 27/30\n",
      "29/29 [==============================] - 2s 69ms/step - loss: 0.0478 - binary_accuracy: 0.9771 - val_loss: 0.0160 - val_binary_accuracy: 1.0000\n",
      "Epoch 28/30\n",
      "29/29 [==============================] - 2s 67ms/step - loss: 0.0514 - binary_accuracy: 0.9774 - val_loss: 0.0099 - val_binary_accuracy: 1.0000\n",
      "Epoch 29/30\n",
      "29/29 [==============================] - 2s 67ms/step - loss: 0.0680 - binary_accuracy: 0.9698 - val_loss: 0.0122 - val_binary_accuracy: 1.0000\n",
      "Epoch 30/30\n",
      "29/29 [==============================] - 2s 68ms/step - loss: 0.0516 - binary_accuracy: 0.9868 - val_loss: 0.0093 - val_binary_accuracy: 1.0000\n",
      "0.9827160493827161\n",
      "0.981111111111111\n",
      "0.9844444444444445\n",
      "0.9433760683760684\n",
      "0.9994192799070847\n",
      "1.0\n"
     ]
    }
   ],
   "source": [
    "x_train = np.append(np.append(data[0], data[1], axis=0),data[2], axis=0)\n",
    "y_train = np.append(np.append(label[0],label[1], axis=0),label[2], axis=0)\n",
    "file_train = [\"95233\",\"26440\",\"57065\"]\n",
    "save_name = \"95233+26440+57065\"\n",
    "results_cat = []\n",
    "org_model = loadmodel()\n",
    "model = transfer(org_model,x_train,y_train)\n",
    "# model = keras.models.load_model(\"./model/transferred_model\")\n",
    "results = pd.DataFrame(columns = ['Cohort','AUC','PRC','Model'])\n",
    "\n",
    "# test CapTrans\n",
    "for x_test,y_test,file_test in zip(data[3:],label[3:],files[3:]):\n",
    "        testresult=model.predict(x_test)\n",
    "        fpr, tpr, _ = roc_curve(y_test,testresult)\n",
    "        roc_auc = auc(fpr,tpr)\n",
    "        precision, recall, _ = precision_recall_curve(y_test,testresult)\n",
    "        prc_auc = auc(recall,precision)\n",
    "        print(roc_auc)\n",
    "        results = results.append({'Cohort':'GSE'+file_test,'AUC':roc_auc,'PRC':prc_auc,'Model':'CaT'},ignore_index=True)\n",
    "        results_cat.append({'Cohort': 'GSE' + file_test, 'Model': 'CaT', 'y_test': y_test, 'testresult': testresult})\n",
    "\n",
    "results_CaT = pd.DataFrame(results_cat)"
   ]
  },
  {
   "cell_type": "code",
   "execution_count": 20,
   "id": "6ba7b92d-5c23-440f-af6e-74c426545ae9",
   "metadata": {},
   "outputs": [
    {
     "data": {
      "text/html": [
       "<div>\n",
       "<style scoped>\n",
       "    .dataframe tbody tr th:only-of-type {\n",
       "        vertical-align: middle;\n",
       "    }\n",
       "\n",
       "    .dataframe tbody tr th {\n",
       "        vertical-align: top;\n",
       "    }\n",
       "\n",
       "    .dataframe thead th {\n",
       "        text-align: right;\n",
       "    }\n",
       "</style>\n",
       "<table border=\"1\" class=\"dataframe\">\n",
       "  <thead>\n",
       "    <tr style=\"text-align: right;\">\n",
       "      <th></th>\n",
       "      <th>Cohort</th>\n",
       "      <th>AUC</th>\n",
       "      <th>PRC</th>\n",
       "      <th>Model</th>\n",
       "    </tr>\n",
       "  </thead>\n",
       "  <tbody>\n",
       "    <tr>\n",
       "      <th>0</th>\n",
       "      <td>GSE4607</td>\n",
       "      <td>0.982716</td>\n",
       "      <td>0.997747</td>\n",
       "      <td>CaT</td>\n",
       "    </tr>\n",
       "    <tr>\n",
       "      <th>1</th>\n",
       "      <td>GSE8121</td>\n",
       "      <td>0.981111</td>\n",
       "      <td>0.995861</td>\n",
       "      <td>CaT</td>\n",
       "    </tr>\n",
       "    <tr>\n",
       "      <th>2</th>\n",
       "      <td>GSE9692</td>\n",
       "      <td>0.984444</td>\n",
       "      <td>0.993606</td>\n",
       "      <td>CaT</td>\n",
       "    </tr>\n",
       "    <tr>\n",
       "      <th>3</th>\n",
       "      <td>GSE13904</td>\n",
       "      <td>0.943376</td>\n",
       "      <td>0.983380</td>\n",
       "      <td>CaT</td>\n",
       "    </tr>\n",
       "    <tr>\n",
       "      <th>4</th>\n",
       "      <td>GSE26378</td>\n",
       "      <td>0.999419</td>\n",
       "      <td>0.999852</td>\n",
       "      <td>CaT</td>\n",
       "    </tr>\n",
       "    <tr>\n",
       "      <th>5</th>\n",
       "      <td>GSE28750</td>\n",
       "      <td>1.000000</td>\n",
       "      <td>1.000000</td>\n",
       "      <td>CaT</td>\n",
       "    </tr>\n",
       "  </tbody>\n",
       "</table>\n",
       "</div>"
      ],
      "text/plain": [
       "     Cohort       AUC       PRC Model\n",
       "0   GSE4607  0.982716  0.997747   CaT\n",
       "1   GSE8121  0.981111  0.995861   CaT\n",
       "2   GSE9692  0.984444  0.993606   CaT\n",
       "3  GSE13904  0.943376  0.983380   CaT\n",
       "4  GSE26378  0.999419  0.999852   CaT\n",
       "5  GSE28750  1.000000  1.000000   CaT"
      ]
     },
     "execution_count": 20,
     "metadata": {},
     "output_type": "execute_result"
    }
   ],
   "source": [
    "results"
   ]
  },
  {
   "cell_type": "code",
   "execution_count": null,
   "id": "8d265557-ee23-4f2e-8487-3152575aaaa6",
   "metadata": {},
   "outputs": [],
   "source": [
    "results_Domain_specific_Normalization1 = results"
   ]
  },
  {
   "cell_type": "code",
   "execution_count": 21,
   "id": "3bd25c0d-6670-4273-a34c-445af0a0cd20",
   "metadata": {},
   "outputs": [
    {
     "data": {
      "text/html": [
       "<div>\n",
       "<style scoped>\n",
       "    .dataframe tbody tr th:only-of-type {\n",
       "        vertical-align: middle;\n",
       "    }\n",
       "\n",
       "    .dataframe tbody tr th {\n",
       "        vertical-align: top;\n",
       "    }\n",
       "\n",
       "    .dataframe thead th {\n",
       "        text-align: right;\n",
       "    }\n",
       "</style>\n",
       "<table border=\"1\" class=\"dataframe\">\n",
       "  <thead>\n",
       "    <tr style=\"text-align: right;\">\n",
       "      <th></th>\n",
       "      <th>Cohort</th>\n",
       "      <th>Model</th>\n",
       "      <th>y_test</th>\n",
       "      <th>testresult</th>\n",
       "    </tr>\n",
       "  </thead>\n",
       "  <tbody>\n",
       "    <tr>\n",
       "      <th>0</th>\n",
       "      <td>GSE4607</td>\n",
       "      <td>CaT</td>\n",
       "      <td>[0, 0, 0, 0, 0, 0, 0, 0, 0, 0, 0, 0, 0, 0, 0, ...</td>\n",
       "      <td>[0.034010068, 0.020908948, 0.03866634, 0.00753...</td>\n",
       "    </tr>\n",
       "    <tr>\n",
       "      <th>1</th>\n",
       "      <td>GSE8121</td>\n",
       "      <td>CaT</td>\n",
       "      <td>[0, 0, 0, 0, 0, 0, 0, 0, 0, 0, 0, 0, 0, 0, 0, ...</td>\n",
       "      <td>[0.014820819, 0.014146972, 0.011832056, 0.0045...</td>\n",
       "    </tr>\n",
       "    <tr>\n",
       "      <th>2</th>\n",
       "      <td>GSE9692</td>\n",
       "      <td>CaT</td>\n",
       "      <td>[1, 1, 1, 1, 1, 1, 1, 1, 1, 1, 1, 1, 1, 1, 1, ...</td>\n",
       "      <td>[0.99930644, 0.9945129, 0.9999981, 0.99960285,...</td>\n",
       "    </tr>\n",
       "    <tr>\n",
       "      <th>3</th>\n",
       "      <td>GSE13904</td>\n",
       "      <td>CaT</td>\n",
       "      <td>[0, 0, 0, 0, 0, 0, 0, 0, 0, 0, 0, 0, 0, 0, 0, ...</td>\n",
       "      <td>[0.036681905, 0.13805662, 0.053169984, 0.03146...</td>\n",
       "    </tr>\n",
       "    <tr>\n",
       "      <th>4</th>\n",
       "      <td>GSE26378</td>\n",
       "      <td>CaT</td>\n",
       "      <td>[1, 1, 1, 1, 1, 1, 1, 1, 1, 1, 1, 1, 1, 0, 0, ...</td>\n",
       "      <td>[0.9992724, 0.9934, 0.99974173, 0.97568583, 0....</td>\n",
       "    </tr>\n",
       "    <tr>\n",
       "      <th>5</th>\n",
       "      <td>GSE28750</td>\n",
       "      <td>CaT</td>\n",
       "      <td>[1, 1, 1, 1, 1, 1, 1, 1, 1, 1, 0, 0, 0, 0, 0, ...</td>\n",
       "      <td>[0.945032, 0.9050596, 0.99984944, 0.99989486, ...</td>\n",
       "    </tr>\n",
       "  </tbody>\n",
       "</table>\n",
       "</div>"
      ],
      "text/plain": [
       "     Cohort Model                                             y_test  \\\n",
       "0   GSE4607   CaT  [0, 0, 0, 0, 0, 0, 0, 0, 0, 0, 0, 0, 0, 0, 0, ...   \n",
       "1   GSE8121   CaT  [0, 0, 0, 0, 0, 0, 0, 0, 0, 0, 0, 0, 0, 0, 0, ...   \n",
       "2   GSE9692   CaT  [1, 1, 1, 1, 1, 1, 1, 1, 1, 1, 1, 1, 1, 1, 1, ...   \n",
       "3  GSE13904   CaT  [0, 0, 0, 0, 0, 0, 0, 0, 0, 0, 0, 0, 0, 0, 0, ...   \n",
       "4  GSE26378   CaT  [1, 1, 1, 1, 1, 1, 1, 1, 1, 1, 1, 1, 1, 0, 0, ...   \n",
       "5  GSE28750   CaT  [1, 1, 1, 1, 1, 1, 1, 1, 1, 1, 0, 0, 0, 0, 0, ...   \n",
       "\n",
       "                                          testresult  \n",
       "0  [0.034010068, 0.020908948, 0.03866634, 0.00753...  \n",
       "1  [0.014820819, 0.014146972, 0.011832056, 0.0045...  \n",
       "2  [0.99930644, 0.9945129, 0.9999981, 0.99960285,...  \n",
       "3  [0.036681905, 0.13805662, 0.053169984, 0.03146...  \n",
       "4  [0.9992724, 0.9934, 0.99974173, 0.97568583, 0....  \n",
       "5  [0.945032, 0.9050596, 0.99984944, 0.99989486, ...  "
      ]
     },
     "execution_count": 21,
     "metadata": {},
     "output_type": "execute_result"
    }
   ],
   "source": [
    "results_CaT['y_test'] = results_CaT['y_test'].apply(lambda x: [int(item) for item in x])\n",
    "results_CaT['testresult'] = results_CaT['testresult'].apply(lambda x: [item for sublist in x for item in sublist])\n",
    "results_CaT"
   ]
  },
  {
   "cell_type": "code",
   "execution_count": 24,
   "id": "905b2e84-19aa-441e-86d8-5f6924db61f9",
   "metadata": {
    "collapsed": true,
    "jupyter": {
     "outputs_hidden": true
    },
    "tags": []
   },
   "outputs": [
    {
     "name": "stderr",
     "output_type": "stream",
     "text": [
      "/home/dm/anaconda3/envs/tf-gpu/lib/python3.8/site-packages/tensorflow/python/keras/layers/core.py:1057: UserWarning: cap is not loaded, but a Lambda layer uses it. It may cause errors.\n",
      "  warnings.warn('{} is not loaded, but a Lambda layer uses it. '\n"
     ]
    },
    {
     "name": "stdout",
     "output_type": "stream",
     "text": [
      "Epoch 1/30\n",
      "10/10 [==============================] - 4s 128ms/step - loss: 1.2450 - accuracy: 0.8430 - val_loss: 0.4144 - val_accuracy: 0.8750\n",
      "Epoch 2/30\n",
      "10/10 [==============================] - 0s 40ms/step - loss: 0.5967 - accuracy: 0.9082 - val_loss: 0.5137 - val_accuracy: 0.8750\n",
      "Epoch 3/30\n",
      "10/10 [==============================] - 0s 35ms/step - loss: 0.6559 - accuracy: 0.8674 - val_loss: 0.6090 - val_accuracy: 0.8750\n",
      "Epoch 4/30\n",
      "10/10 [==============================] - 0s 31ms/step - loss: 0.6253 - accuracy: 0.6605 - val_loss: 0.6565 - val_accuracy: 0.5417\n",
      "Epoch 5/30\n",
      "10/10 [==============================] - 0s 39ms/step - loss: 0.6681 - accuracy: 0.5038 - val_loss: 0.6556 - val_accuracy: 0.5417\n",
      "Epoch 6/30\n",
      "10/10 [==============================] - 0s 33ms/step - loss: 0.6309 - accuracy: 0.4592 - val_loss: 0.6531 - val_accuracy: 0.5417\n",
      "Epoch 7/30\n",
      "10/10 [==============================] - 0s 38ms/step - loss: 0.5844 - accuracy: 0.5311 - val_loss: 0.5977 - val_accuracy: 0.8750\n",
      "Epoch 8/30\n",
      "10/10 [==============================] - 0s 36ms/step - loss: 0.7102 - accuracy: 0.6524 - val_loss: 0.6691 - val_accuracy: 0.5000\n",
      "Epoch 9/30\n",
      "10/10 [==============================] - 0s 38ms/step - loss: 0.5880 - accuracy: 0.4440 - val_loss: 0.6566 - val_accuracy: 0.5417\n",
      "Epoch 10/30\n",
      "10/10 [==============================] - 0s 38ms/step - loss: 0.6318 - accuracy: 0.5203 - val_loss: 0.6328 - val_accuracy: 0.6250\n",
      "Epoch 11/30\n",
      "10/10 [==============================] - 0s 39ms/step - loss: 0.6791 - accuracy: 0.5920 - val_loss: 0.6032 - val_accuracy: 0.6250\n",
      "Epoch 12/30\n",
      "10/10 [==============================] - 0s 39ms/step - loss: 0.6618 - accuracy: 0.6470 - val_loss: 0.5871 - val_accuracy: 0.7917\n",
      "Epoch 13/30\n",
      "10/10 [==============================] - 0s 40ms/step - loss: 0.5285 - accuracy: 0.7252 - val_loss: 0.5713 - val_accuracy: 0.8750\n",
      "Epoch 14/30\n",
      "10/10 [==============================] - 0s 39ms/step - loss: 0.5251 - accuracy: 0.7199 - val_loss: 0.5881 - val_accuracy: 0.7500\n",
      "Epoch 15/30\n",
      "10/10 [==============================] - 0s 37ms/step - loss: 0.6456 - accuracy: 0.6452 - val_loss: 0.6073 - val_accuracy: 0.6250\n",
      "Epoch 16/30\n",
      "10/10 [==============================] - 0s 44ms/step - loss: 0.6048 - accuracy: 0.5322 - val_loss: 0.6292 - val_accuracy: 0.5833\n",
      "Epoch 17/30\n",
      "10/10 [==============================] - 0s 38ms/step - loss: 0.5542 - accuracy: 0.5439 - val_loss: 0.6128 - val_accuracy: 0.6250\n",
      "Epoch 18/30\n",
      "10/10 [==============================] - 0s 40ms/step - loss: 0.6216 - accuracy: 0.5722 - val_loss: 0.5790 - val_accuracy: 0.7083\n",
      "Epoch 19/30\n",
      "10/10 [==============================] - 0s 37ms/step - loss: 0.5609 - accuracy: 0.6800 - val_loss: 0.5634 - val_accuracy: 0.8750\n",
      "Epoch 20/30\n",
      "10/10 [==============================] - 0s 38ms/step - loss: 0.5825 - accuracy: 0.6906 - val_loss: 0.5740 - val_accuracy: 0.7083\n",
      "Epoch 21/30\n",
      "10/10 [==============================] - 0s 40ms/step - loss: 0.5950 - accuracy: 0.6148 - val_loss: 0.5873 - val_accuracy: 0.6250\n",
      "Epoch 22/30\n",
      "10/10 [==============================] - 0s 40ms/step - loss: 0.6119 - accuracy: 0.5335 - val_loss: 0.6226 - val_accuracy: 0.5833\n",
      "Epoch 23/30\n",
      "10/10 [==============================] - 0s 40ms/step - loss: 0.6060 - accuracy: 0.4927 - val_loss: 0.6009 - val_accuracy: 0.6250\n",
      "Epoch 24/30\n",
      "10/10 [==============================] - 0s 40ms/step - loss: 0.6271 - accuracy: 0.5334 - val_loss: 0.5644 - val_accuracy: 0.7083\n",
      "Epoch 25/30\n",
      "10/10 [==============================] - 0s 31ms/step - loss: 0.5944 - accuracy: 0.6365 - val_loss: 0.5777 - val_accuracy: 0.6667\n",
      "Epoch 26/30\n",
      "10/10 [==============================] - 0s 39ms/step - loss: 0.7035 - accuracy: 0.5880 - val_loss: 0.5966 - val_accuracy: 0.6250\n",
      "Epoch 27/30\n",
      "10/10 [==============================] - 0s 39ms/step - loss: 0.6270 - accuracy: 0.5441 - val_loss: 0.5631 - val_accuracy: 0.6667\n",
      "Epoch 28/30\n",
      "10/10 [==============================] - 0s 40ms/step - loss: 0.6121 - accuracy: 0.6696 - val_loss: 0.5419 - val_accuracy: 0.8333\n",
      "Epoch 29/30\n",
      "10/10 [==============================] - 0s 41ms/step - loss: 0.5622 - accuracy: 0.6495 - val_loss: 0.6248 - val_accuracy: 0.5833\n",
      "Epoch 30/30\n",
      "10/10 [==============================] - 0s 39ms/step - loss: 0.5459 - accuracy: 0.5515 - val_loss: 0.5990 - val_accuracy: 0.5833\n",
      "Epoch 1/30\n",
      "10/10 [==============================] - 5s 162ms/step - loss: 0.6401 - binary_accuracy: 0.5560 - val_loss: 0.5182 - val_binary_accuracy: 0.7083\n",
      "Epoch 2/30\n",
      "10/10 [==============================] - 1s 80ms/step - loss: 0.5851 - binary_accuracy: 0.7091 - val_loss: 0.4249 - val_binary_accuracy: 0.7917\n",
      "Epoch 3/30\n",
      "10/10 [==============================] - 1s 80ms/step - loss: 0.5126 - binary_accuracy: 0.7858 - val_loss: 0.4881 - val_binary_accuracy: 0.7083\n",
      "Epoch 4/30\n",
      "10/10 [==============================] - 1s 75ms/step - loss: 0.6085 - binary_accuracy: 0.6185 - val_loss: 0.5414 - val_binary_accuracy: 0.5833\n",
      "Epoch 5/30\n",
      "10/10 [==============================] - 1s 69ms/step - loss: 0.5282 - binary_accuracy: 0.7417 - val_loss: 0.3196 - val_binary_accuracy: 0.8750\n",
      "Epoch 6/30\n",
      "10/10 [==============================] - 1s 71ms/step - loss: 0.4288 - binary_accuracy: 0.8399 - val_loss: 0.4769 - val_binary_accuracy: 0.6250\n",
      "Epoch 7/30\n",
      "10/10 [==============================] - 1s 72ms/step - loss: 0.5017 - binary_accuracy: 0.6533 - val_loss: 0.3798 - val_binary_accuracy: 0.8750\n",
      "Epoch 8/30\n",
      "10/10 [==============================] - 1s 72ms/step - loss: 0.4373 - binary_accuracy: 0.8515 - val_loss: 0.3838 - val_binary_accuracy: 0.8333\n",
      "Epoch 9/30\n",
      "10/10 [==============================] - 1s 75ms/step - loss: 0.4193 - binary_accuracy: 0.7089 - val_loss: 0.4307 - val_binary_accuracy: 0.7083\n",
      "Epoch 10/30\n",
      "10/10 [==============================] - 1s 70ms/step - loss: 0.3927 - binary_accuracy: 0.7803 - val_loss: 0.3380 - val_binary_accuracy: 0.9583\n",
      "Epoch 11/30\n",
      "10/10 [==============================] - 1s 70ms/step - loss: 0.4993 - binary_accuracy: 0.6957 - val_loss: 0.2528 - val_binary_accuracy: 0.9583\n",
      "Epoch 12/30\n",
      "10/10 [==============================] - 1s 75ms/step - loss: 0.3872 - binary_accuracy: 0.9011 - val_loss: 0.5153 - val_binary_accuracy: 0.6250\n",
      "Epoch 13/30\n",
      "10/10 [==============================] - 1s 70ms/step - loss: 0.4166 - binary_accuracy: 0.6576 - val_loss: 0.2913 - val_binary_accuracy: 0.9583\n",
      "Epoch 14/30\n",
      "10/10 [==============================] - 1s 69ms/step - loss: 0.4780 - binary_accuracy: 0.8186 - val_loss: 0.3580 - val_binary_accuracy: 0.7917\n",
      "Epoch 15/30\n",
      "10/10 [==============================] - 1s 74ms/step - loss: 0.3833 - binary_accuracy: 0.7726 - val_loss: 0.2575 - val_binary_accuracy: 0.9583\n",
      "Epoch 16/30\n",
      "10/10 [==============================] - 1s 69ms/step - loss: 0.3442 - binary_accuracy: 0.8688 - val_loss: 0.2675 - val_binary_accuracy: 0.9167\n",
      "Epoch 17/30\n",
      "10/10 [==============================] - 1s 73ms/step - loss: 0.3477 - binary_accuracy: 0.8451 - val_loss: 0.2118 - val_binary_accuracy: 0.9583\n",
      "Epoch 18/30\n",
      "10/10 [==============================] - 1s 76ms/step - loss: 0.4085 - binary_accuracy: 0.8144 - val_loss: 0.2062 - val_binary_accuracy: 0.9583\n",
      "Epoch 19/30\n",
      "10/10 [==============================] - 1s 68ms/step - loss: 0.3670 - binary_accuracy: 0.8876 - val_loss: 0.2545 - val_binary_accuracy: 0.9167\n",
      "Epoch 20/30\n",
      "10/10 [==============================] - 1s 65ms/step - loss: 0.3454 - binary_accuracy: 0.8132 - val_loss: 0.1574 - val_binary_accuracy: 0.9583\n",
      "Epoch 21/30\n",
      "10/10 [==============================] - 1s 74ms/step - loss: 0.3250 - binary_accuracy: 0.9395 - val_loss: 0.4033 - val_binary_accuracy: 0.7917\n",
      "Epoch 22/30\n",
      "10/10 [==============================] - 1s 73ms/step - loss: 0.3210 - binary_accuracy: 0.7738 - val_loss: 0.1376 - val_binary_accuracy: 0.9583\n",
      "Epoch 23/30\n",
      "10/10 [==============================] - 1s 68ms/step - loss: 0.3043 - binary_accuracy: 0.8976 - val_loss: 0.2591 - val_binary_accuracy: 0.9167\n",
      "Epoch 24/30\n",
      "10/10 [==============================] - 1s 74ms/step - loss: 0.2399 - binary_accuracy: 0.8367 - val_loss: 0.1703 - val_binary_accuracy: 0.9583\n",
      "Epoch 25/30\n",
      "10/10 [==============================] - 1s 69ms/step - loss: 0.3002 - binary_accuracy: 0.8561 - val_loss: 0.1751 - val_binary_accuracy: 0.9583\n",
      "Epoch 26/30\n",
      "10/10 [==============================] - 1s 76ms/step - loss: 0.2448 - binary_accuracy: 0.8630 - val_loss: 0.1573 - val_binary_accuracy: 0.9583\n",
      "Epoch 27/30\n",
      "10/10 [==============================] - 1s 71ms/step - loss: 0.2600 - binary_accuracy: 0.8895 - val_loss: 0.1894 - val_binary_accuracy: 0.9167\n",
      "Epoch 28/30\n",
      "10/10 [==============================] - 1s 76ms/step - loss: 0.2517 - binary_accuracy: 0.8690 - val_loss: 0.1063 - val_binary_accuracy: 0.9583\n",
      "Epoch 29/30\n",
      "10/10 [==============================] - 1s 72ms/step - loss: 0.2266 - binary_accuracy: 0.9025 - val_loss: 0.1384 - val_binary_accuracy: 0.9583\n",
      "Epoch 30/30\n",
      "10/10 [==============================] - 1s 73ms/step - loss: 0.2283 - binary_accuracy: 0.8698 - val_loss: 0.0898 - val_binary_accuracy: 0.9583\n",
      "0.9669387755102041\n"
     ]
    }
   ],
   "source": [
    "results_cat1 = []\n",
    "            \n",
    "seq_train,seq_val, seqlabel_train,seqlabel_val = train_test_split(seq1,seq1_label,test_size=0.7,random_state=42)\n",
    "file_train = [\"185263\"]\n",
    "save_name = \"185263\"\n",
    "\n",
    "org_model = loadmodel()\n",
    "model = transfer(org_model,seq_train,seqlabel_train)\n",
    "# model = keras.models.load_model(\"./model/transferred_model\")\n",
    "\n",
    "# test CapTrans\n",
    "testresult=model.predict(seq_val)\n",
    "fpr, tpr, _ = roc_curve(seqlabel_val,testresult)\n",
    "roc_auc = auc(fpr,tpr)\n",
    "precision, recall, _ = precision_recall_curve(seqlabel_val,testresult)\n",
    "prc_auc = auc(recall,precision)\n",
    "print(roc_auc)\n",
    "results = results.append({'Cohort':'GSE'+'185263','AUC':roc_auc,'PRC':prc_auc,'Model':'CaT'},ignore_index=True)\n",
    "results_cat1.append({'Cohort': 'GSE' + '185263', 'Model': 'CaT', 'y_test': seqlabel_val, 'testresult': testresult})\n",
    "results_CaT1 = pd.DataFrame(results_cat1)"
   ]
  },
  {
   "cell_type": "code",
   "execution_count": 25,
   "id": "aee06b10-2da5-4088-86c7-84297fbeec8a",
   "metadata": {},
   "outputs": [
    {
     "data": {
      "text/html": [
       "<div>\n",
       "<style scoped>\n",
       "    .dataframe tbody tr th:only-of-type {\n",
       "        vertical-align: middle;\n",
       "    }\n",
       "\n",
       "    .dataframe tbody tr th {\n",
       "        vertical-align: top;\n",
       "    }\n",
       "\n",
       "    .dataframe thead th {\n",
       "        text-align: right;\n",
       "    }\n",
       "</style>\n",
       "<table border=\"1\" class=\"dataframe\">\n",
       "  <thead>\n",
       "    <tr style=\"text-align: right;\">\n",
       "      <th></th>\n",
       "      <th>Cohort</th>\n",
       "      <th>AUC</th>\n",
       "      <th>PRC</th>\n",
       "      <th>Model</th>\n",
       "    </tr>\n",
       "  </thead>\n",
       "  <tbody>\n",
       "    <tr>\n",
       "      <th>0</th>\n",
       "      <td>GSE4607</td>\n",
       "      <td>0.982716</td>\n",
       "      <td>0.997747</td>\n",
       "      <td>CaT</td>\n",
       "    </tr>\n",
       "    <tr>\n",
       "      <th>1</th>\n",
       "      <td>GSE8121</td>\n",
       "      <td>0.981111</td>\n",
       "      <td>0.995861</td>\n",
       "      <td>CaT</td>\n",
       "    </tr>\n",
       "    <tr>\n",
       "      <th>2</th>\n",
       "      <td>GSE9692</td>\n",
       "      <td>0.984444</td>\n",
       "      <td>0.993606</td>\n",
       "      <td>CaT</td>\n",
       "    </tr>\n",
       "    <tr>\n",
       "      <th>3</th>\n",
       "      <td>GSE13904</td>\n",
       "      <td>0.943376</td>\n",
       "      <td>0.983380</td>\n",
       "      <td>CaT</td>\n",
       "    </tr>\n",
       "    <tr>\n",
       "      <th>4</th>\n",
       "      <td>GSE26378</td>\n",
       "      <td>0.999419</td>\n",
       "      <td>0.999852</td>\n",
       "      <td>CaT</td>\n",
       "    </tr>\n",
       "    <tr>\n",
       "      <th>5</th>\n",
       "      <td>GSE28750</td>\n",
       "      <td>1.000000</td>\n",
       "      <td>1.000000</td>\n",
       "      <td>CaT</td>\n",
       "    </tr>\n",
       "    <tr>\n",
       "      <th>6</th>\n",
       "      <td>GSE185263</td>\n",
       "      <td>0.966939</td>\n",
       "      <td>0.995788</td>\n",
       "      <td>CaT</td>\n",
       "    </tr>\n",
       "  </tbody>\n",
       "</table>\n",
       "</div>"
      ],
      "text/plain": [
       "      Cohort       AUC       PRC Model\n",
       "0    GSE4607  0.982716  0.997747   CaT\n",
       "1    GSE8121  0.981111  0.995861   CaT\n",
       "2    GSE9692  0.984444  0.993606   CaT\n",
       "3   GSE13904  0.943376  0.983380   CaT\n",
       "4   GSE26378  0.999419  0.999852   CaT\n",
       "5   GSE28750  1.000000  1.000000   CaT\n",
       "6  GSE185263  0.966939  0.995788   CaT"
      ]
     },
     "execution_count": 25,
     "metadata": {},
     "output_type": "execute_result"
    }
   ],
   "source": [
    "#results_Domain_specific_Normalization\n",
    "results"
   ]
  },
  {
   "cell_type": "code",
   "execution_count": 59,
   "id": "7d49432c-04e3-4e0a-8724-2b0bb097077d",
   "metadata": {},
   "outputs": [
    {
     "data": {
      "text/html": [
       "<div>\n",
       "<style scoped>\n",
       "    .dataframe tbody tr th:only-of-type {\n",
       "        vertical-align: middle;\n",
       "    }\n",
       "\n",
       "    .dataframe tbody tr th {\n",
       "        vertical-align: top;\n",
       "    }\n",
       "\n",
       "    .dataframe thead th {\n",
       "        text-align: right;\n",
       "    }\n",
       "</style>\n",
       "<table border=\"1\" class=\"dataframe\">\n",
       "  <thead>\n",
       "    <tr style=\"text-align: right;\">\n",
       "      <th></th>\n",
       "      <th>Cohort</th>\n",
       "      <th>Model</th>\n",
       "      <th>y_test</th>\n",
       "      <th>testresult</th>\n",
       "    </tr>\n",
       "  </thead>\n",
       "  <tbody>\n",
       "    <tr>\n",
       "      <th>0</th>\n",
       "      <td>GSE185263</td>\n",
       "      <td>CaT</td>\n",
       "      <td>[1, 0, 1, 1, 0, 1, 1, 1, 1, 1, 1, 1, 0, 1, 0, ...</td>\n",
       "      <td>[0.87594706, 0.22732697, 0.70470345, 0.7983318...</td>\n",
       "    </tr>\n",
       "  </tbody>\n",
       "</table>\n",
       "</div>"
      ],
      "text/plain": [
       "      Cohort Model                                             y_test  \\\n",
       "0  GSE185263   CaT  [1, 0, 1, 1, 0, 1, 1, 1, 1, 1, 1, 1, 0, 1, 0, ...   \n",
       "\n",
       "                                          testresult  \n",
       "0  [0.87594706, 0.22732697, 0.70470345, 0.7983318...  "
      ]
     },
     "execution_count": 59,
     "metadata": {},
     "output_type": "execute_result"
    }
   ],
   "source": [
    "results_CaT1.at[0, 'testresult'] = [item for sublist in results_CaT1.at[0, 'testresult'] for item in sublist]\n",
    "results_CaT1"
   ]
  },
  {
   "cell_type": "code",
   "execution_count": null,
   "id": "1bb078a9-fe23-46c2-889f-56fb8097c646",
   "metadata": {},
   "outputs": [],
   "source": []
  },
  {
   "cell_type": "code",
   "execution_count": null,
   "id": "f513cc7a-6d4f-44ad-b79f-e396a0828fea",
   "metadata": {},
   "outputs": [],
   "source": []
  },
  {
   "cell_type": "code",
   "execution_count": null,
   "id": "41b355fc-8e5e-4507-ba6f-6161b085a325",
   "metadata": {},
   "outputs": [],
   "source": []
  }
 ],
 "metadata": {
  "colab": {
   "provenance": [
    {
     "file_id": "1maZlm0ZeqrXUhmddx-fpEyzjxKWprc01",
     "timestamp": 1678973358341
    },
    {
     "file_id": "1l8imIshzi6g6Sq3XvN-UHE3Pl2K2tznz",
     "timestamp": 1678936054016
    },
    {
     "file_id": "11MxSqv8qHICybSN4ZKJkNyIoiAJxXn67",
     "timestamp": 1666079389402
    },
    {
     "file_id": "https://github.com/Kimxbzheng/CapTrans_updated/blob/main/TransferToBulk_zheng.ipynb",
     "timestamp": 1663225650995
    }
   ]
  },
  "kernelspec": {
   "display_name": "tf-gpu",
   "language": "python",
   "name": "tf-gpu"
  },
  "language_info": {
   "codemirror_mode": {
    "name": "ipython",
    "version": 3
   },
   "file_extension": ".py",
   "mimetype": "text/x-python",
   "name": "python",
   "nbconvert_exporter": "python",
   "pygments_lexer": "ipython3",
   "version": "3.8.12"
  }
 },
 "nbformat": 4,
 "nbformat_minor": 5
}
